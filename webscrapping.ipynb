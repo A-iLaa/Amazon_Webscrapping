{
  "nbformat": 4,
  "nbformat_minor": 0,
  "metadata": {
    "colab": {
      "provenance": []
    },
    "kernelspec": {
      "name": "python3",
      "display_name": "Python 3"
    },
    "language_info": {
      "name": "python"
    }
  },
  "cells": [
    {
      "cell_type": "code",
      "execution_count": 184,
      "metadata": {
        "id": "bReB3gunQwnA"
      },
      "outputs": [],
      "source": [
        "import pandas as pd\n",
        "import numpy as np\n",
        "from bs4 import BeautifulSoup\n",
        "import requests\n",
        "import time"
      ]
    },
    {
      "cell_type": "code",
      "source": [
        "headers={'User-Agent':'Mozilla/5.0 (Windows NT 6.3; Win 64 ; x64) Apple WeKit /537.36(KHTML , like Gecko) Chrome/80.0.3987.162 Safari/537.36'}\n"
      ],
      "metadata": {
        "id": "lVoWNlITTtxz"
      },
      "execution_count": 185,
      "outputs": []
    },
    {
      "cell_type": "markdown",
      "source": [
        "# Extracting Mobile Phone data"
      ],
      "metadata": {
        "id": "EfdfDfpJ1kKf"
      }
    },
    {
      "cell_type": "code",
      "source": [
        "products=[]\n",
        "ratings=[]\n",
        "prices=[]\n",
        "no_of_reviews=[]\n",
        "webpage=requests.get(\"https://www.amazon.in/s?k=mobile\",headers=headers).text\n",
        "soup=BeautifulSoup(webpage,'html.parser')\n",
        "amazon=soup.find_all('div', class_='puisg-col puisg-col-4-of-12 puisg-col-8-of-16 puisg-col-12-of-20 puisg-col-12-of-24 puis-list-col-right')\n",
        "for i in amazon:\n",
        "     product=i.find('span',class_='a-size-medium a-color-base a-text-normal').text\n",
        "     try:\n",
        "       rate=i.find('div',class_='a-row a-size-small')\n",
        "       rating=[j.text for j in rate]\n",
        "       rate=rating[0]\n",
        "       no_of_review=rating[1]\n",
        "       ratings.append(rate)\n",
        "       no_of_reviews.append(no_of_review)\n",
        "     except:\n",
        "       ratings.append(np.nan)\n",
        "       no_of_reviews.append(np.nan)\n",
        "     price=i.find('span','a-price-whole').text\n",
        "     products.append(product)\n",
        "     prices.append(price)\n"
      ],
      "metadata": {
        "id": "bz3Au_fCQc36"
      },
      "execution_count": 186,
      "outputs": []
    },
    {
      "cell_type": "markdown",
      "source": [
        "## Creating DataFrame"
      ],
      "metadata": {
        "id": "10ld3usx3LtW"
      }
    },
    {
      "cell_type": "code",
      "source": [
        "dic={'product':products,'rating':ratings,'no_of_reviews':no_of_reviews,'price':prices}"
      ],
      "metadata": {
        "id": "vZJJJMAnrX_L"
      },
      "execution_count": 187,
      "outputs": []
    },
    {
      "cell_type": "code",
      "source": [
        "df=pd.DataFrame(dic)"
      ],
      "metadata": {
        "id": "ylbsv8IWsCf2"
      },
      "execution_count": 188,
      "outputs": []
    },
    {
      "cell_type": "code",
      "source": [
        "df.shape"
      ],
      "metadata": {
        "id": "rflk7RsIvYGM",
        "colab": {
          "base_uri": "https://localhost:8080/"
        },
        "outputId": "c400fc47-d5eb-4fb1-88cf-2e425848d413"
      },
      "execution_count": 189,
      "outputs": [
        {
          "output_type": "execute_result",
          "data": {
            "text/plain": [
              "(16, 4)"
            ]
          },
          "metadata": {},
          "execution_count": 189
        }
      ]
    },
    {
      "cell_type": "code",
      "source": [
        "df['category']='mobile'"
      ],
      "metadata": {
        "id": "8ZO62pBAy2XO"
      },
      "execution_count": 190,
      "outputs": []
    },
    {
      "cell_type": "code",
      "source": [
        "df['product'].head(1)"
      ],
      "metadata": {
        "id": "-qyWmeMgvbuN",
        "colab": {
          "base_uri": "https://localhost:8080/"
        },
        "outputId": "1c8ffba4-faf4-45cb-ed2b-34c1087e37f5"
      },
      "execution_count": 191,
      "outputs": [
        {
          "output_type": "execute_result",
          "data": {
            "text/plain": [
              "0    Oneplus Nord CE4 (Celadon Marble, 8GB RAM, 128...\n",
              "Name: product, dtype: object"
            ]
          },
          "metadata": {},
          "execution_count": 191
        }
      ]
    },
    {
      "cell_type": "code",
      "source": [
        "df"
      ],
      "metadata": {
        "colab": {
          "base_uri": "https://localhost:8080/",
          "height": 551
        },
        "id": "FA0sbv0yu7al",
        "outputId": "339fea92-44a5-4b35-8d86-972489c71233"
      },
      "execution_count": 192,
      "outputs": [
        {
          "output_type": "execute_result",
          "data": {
            "text/plain": [
              "                                              product               rating  \\\n",
              "0   Oneplus Nord CE4 (Celadon Marble, 8GB RAM, 128...                  NaN   \n",
              "1   Redmi 13C (Stardust Black, 6GB RAM, 128GB Stor...  4.1 out of 5 stars    \n",
              "2   realme narzo N53 (Feather Gold, 4GB+64GB) 33W ...  4.0 out of 5 stars    \n",
              "3   realme narzo N53 (Feather Black, 4GB+64GB) 33W...  4.0 out of 5 stars    \n",
              "4   Oneplus Nord CE4 (Dark Chrome, 8GB RAM, 256GB ...                  NaN   \n",
              "5   realme narzo N53 (Feather Gold, 8GB+128GB) 33W...  4.0 out of 5 stars    \n",
              "6   Redmi 13C (Starfrost White, 4GB RAM, 128GB Sto...  4.1 out of 5 stars    \n",
              "7   OnePlus Nord CE 3 Lite 5G (Chromatic Gray, 8GB...  4.2 out of 5 stars    \n",
              "8   Redmi 13C (Stardust Black, 4GB RAM, 128GB Stor...  4.1 out of 5 stars    \n",
              "9            Redmi 12 5G Jade Black 6GB RAM 128GB ROM  4.0 out of 5 stars    \n",
              "10  realme narzo 60X 5G (Stellar Green,6GB,128GB S...  4.1 out of 5 stars    \n",
              "11  Redmi 13C (Starfrost White, 8GB RAM, 256GB Sto...  4.1 out of 5 stars    \n",
              "12  Vivo V30 5G Smartphone, 8GB RAM 128GB Storage,...  5.0 out of 5 stars    \n",
              "13  Redmi 13C 5G (Startrail Green, 4GB RAM, 128GB ...  4.0 out of 5 stars    \n",
              "14       Vivo T2x 5G (Marine Blue, 128 GB) (6 GB RAM)  4.2 out of 5 stars    \n",
              "15  Xiaomi 14 (Black, 12GB RAM, 512GB Storage) | 5...  4.2 out of 5 stars    \n",
              "\n",
              "   no_of_reviews   price category  \n",
              "0            NaN  24,999   mobile  \n",
              "1        2,939     8,699   mobile  \n",
              "2       15,472     7,499   mobile  \n",
              "3       15,472     8,999   mobile  \n",
              "4            NaN  26,999   mobile  \n",
              "5       15,472     8,999   mobile  \n",
              "6        2,939     7,699   mobile  \n",
              "7       48,442    19,999   mobile  \n",
              "8        2,939     7,699   mobile  \n",
              "9       15,942    12,999   mobile  \n",
              "10      10,353    12,499   mobile  \n",
              "11       2,939    10,999   mobile  \n",
              "12           1    30,930   mobile  \n",
              "13       2,897    10,999   mobile  \n",
              "14         471    12,999   mobile  \n",
              "15          62    69,999   mobile  "
            ],
            "text/html": [
              "\n",
              "  <div id=\"df-cc3ff61c-a362-4716-8b1b-4d5ea5e767cb\" class=\"colab-df-container\">\n",
              "    <div>\n",
              "<style scoped>\n",
              "    .dataframe tbody tr th:only-of-type {\n",
              "        vertical-align: middle;\n",
              "    }\n",
              "\n",
              "    .dataframe tbody tr th {\n",
              "        vertical-align: top;\n",
              "    }\n",
              "\n",
              "    .dataframe thead th {\n",
              "        text-align: right;\n",
              "    }\n",
              "</style>\n",
              "<table border=\"1\" class=\"dataframe\">\n",
              "  <thead>\n",
              "    <tr style=\"text-align: right;\">\n",
              "      <th></th>\n",
              "      <th>product</th>\n",
              "      <th>rating</th>\n",
              "      <th>no_of_reviews</th>\n",
              "      <th>price</th>\n",
              "      <th>category</th>\n",
              "    </tr>\n",
              "  </thead>\n",
              "  <tbody>\n",
              "    <tr>\n",
              "      <th>0</th>\n",
              "      <td>Oneplus Nord CE4 (Celadon Marble, 8GB RAM, 128...</td>\n",
              "      <td>NaN</td>\n",
              "      <td>NaN</td>\n",
              "      <td>24,999</td>\n",
              "      <td>mobile</td>\n",
              "    </tr>\n",
              "    <tr>\n",
              "      <th>1</th>\n",
              "      <td>Redmi 13C (Stardust Black, 6GB RAM, 128GB Stor...</td>\n",
              "      <td>4.1 out of 5 stars</td>\n",
              "      <td>2,939</td>\n",
              "      <td>8,699</td>\n",
              "      <td>mobile</td>\n",
              "    </tr>\n",
              "    <tr>\n",
              "      <th>2</th>\n",
              "      <td>realme narzo N53 (Feather Gold, 4GB+64GB) 33W ...</td>\n",
              "      <td>4.0 out of 5 stars</td>\n",
              "      <td>15,472</td>\n",
              "      <td>7,499</td>\n",
              "      <td>mobile</td>\n",
              "    </tr>\n",
              "    <tr>\n",
              "      <th>3</th>\n",
              "      <td>realme narzo N53 (Feather Black, 4GB+64GB) 33W...</td>\n",
              "      <td>4.0 out of 5 stars</td>\n",
              "      <td>15,472</td>\n",
              "      <td>8,999</td>\n",
              "      <td>mobile</td>\n",
              "    </tr>\n",
              "    <tr>\n",
              "      <th>4</th>\n",
              "      <td>Oneplus Nord CE4 (Dark Chrome, 8GB RAM, 256GB ...</td>\n",
              "      <td>NaN</td>\n",
              "      <td>NaN</td>\n",
              "      <td>26,999</td>\n",
              "      <td>mobile</td>\n",
              "    </tr>\n",
              "    <tr>\n",
              "      <th>5</th>\n",
              "      <td>realme narzo N53 (Feather Gold, 8GB+128GB) 33W...</td>\n",
              "      <td>4.0 out of 5 stars</td>\n",
              "      <td>15,472</td>\n",
              "      <td>8,999</td>\n",
              "      <td>mobile</td>\n",
              "    </tr>\n",
              "    <tr>\n",
              "      <th>6</th>\n",
              "      <td>Redmi 13C (Starfrost White, 4GB RAM, 128GB Sto...</td>\n",
              "      <td>4.1 out of 5 stars</td>\n",
              "      <td>2,939</td>\n",
              "      <td>7,699</td>\n",
              "      <td>mobile</td>\n",
              "    </tr>\n",
              "    <tr>\n",
              "      <th>7</th>\n",
              "      <td>OnePlus Nord CE 3 Lite 5G (Chromatic Gray, 8GB...</td>\n",
              "      <td>4.2 out of 5 stars</td>\n",
              "      <td>48,442</td>\n",
              "      <td>19,999</td>\n",
              "      <td>mobile</td>\n",
              "    </tr>\n",
              "    <tr>\n",
              "      <th>8</th>\n",
              "      <td>Redmi 13C (Stardust Black, 4GB RAM, 128GB Stor...</td>\n",
              "      <td>4.1 out of 5 stars</td>\n",
              "      <td>2,939</td>\n",
              "      <td>7,699</td>\n",
              "      <td>mobile</td>\n",
              "    </tr>\n",
              "    <tr>\n",
              "      <th>9</th>\n",
              "      <td>Redmi 12 5G Jade Black 6GB RAM 128GB ROM</td>\n",
              "      <td>4.0 out of 5 stars</td>\n",
              "      <td>15,942</td>\n",
              "      <td>12,999</td>\n",
              "      <td>mobile</td>\n",
              "    </tr>\n",
              "    <tr>\n",
              "      <th>10</th>\n",
              "      <td>realme narzo 60X 5G (Stellar Green,6GB,128GB S...</td>\n",
              "      <td>4.1 out of 5 stars</td>\n",
              "      <td>10,353</td>\n",
              "      <td>12,499</td>\n",
              "      <td>mobile</td>\n",
              "    </tr>\n",
              "    <tr>\n",
              "      <th>11</th>\n",
              "      <td>Redmi 13C (Starfrost White, 8GB RAM, 256GB Sto...</td>\n",
              "      <td>4.1 out of 5 stars</td>\n",
              "      <td>2,939</td>\n",
              "      <td>10,999</td>\n",
              "      <td>mobile</td>\n",
              "    </tr>\n",
              "    <tr>\n",
              "      <th>12</th>\n",
              "      <td>Vivo V30 5G Smartphone, 8GB RAM 128GB Storage,...</td>\n",
              "      <td>5.0 out of 5 stars</td>\n",
              "      <td>1</td>\n",
              "      <td>30,930</td>\n",
              "      <td>mobile</td>\n",
              "    </tr>\n",
              "    <tr>\n",
              "      <th>13</th>\n",
              "      <td>Redmi 13C 5G (Startrail Green, 4GB RAM, 128GB ...</td>\n",
              "      <td>4.0 out of 5 stars</td>\n",
              "      <td>2,897</td>\n",
              "      <td>10,999</td>\n",
              "      <td>mobile</td>\n",
              "    </tr>\n",
              "    <tr>\n",
              "      <th>14</th>\n",
              "      <td>Vivo T2x 5G (Marine Blue, 128 GB) (6 GB RAM)</td>\n",
              "      <td>4.2 out of 5 stars</td>\n",
              "      <td>471</td>\n",
              "      <td>12,999</td>\n",
              "      <td>mobile</td>\n",
              "    </tr>\n",
              "    <tr>\n",
              "      <th>15</th>\n",
              "      <td>Xiaomi 14 (Black, 12GB RAM, 512GB Storage) | 5...</td>\n",
              "      <td>4.2 out of 5 stars</td>\n",
              "      <td>62</td>\n",
              "      <td>69,999</td>\n",
              "      <td>mobile</td>\n",
              "    </tr>\n",
              "  </tbody>\n",
              "</table>\n",
              "</div>\n",
              "    <div class=\"colab-df-buttons\">\n",
              "\n",
              "  <div class=\"colab-df-container\">\n",
              "    <button class=\"colab-df-convert\" onclick=\"convertToInteractive('df-cc3ff61c-a362-4716-8b1b-4d5ea5e767cb')\"\n",
              "            title=\"Convert this dataframe to an interactive table.\"\n",
              "            style=\"display:none;\">\n",
              "\n",
              "  <svg xmlns=\"http://www.w3.org/2000/svg\" height=\"24px\" viewBox=\"0 -960 960 960\">\n",
              "    <path d=\"M120-120v-720h720v720H120Zm60-500h600v-160H180v160Zm220 220h160v-160H400v160Zm0 220h160v-160H400v160ZM180-400h160v-160H180v160Zm440 0h160v-160H620v160ZM180-180h160v-160H180v160Zm440 0h160v-160H620v160Z\"/>\n",
              "  </svg>\n",
              "    </button>\n",
              "\n",
              "  <style>\n",
              "    .colab-df-container {\n",
              "      display:flex;\n",
              "      gap: 12px;\n",
              "    }\n",
              "\n",
              "    .colab-df-convert {\n",
              "      background-color: #E8F0FE;\n",
              "      border: none;\n",
              "      border-radius: 50%;\n",
              "      cursor: pointer;\n",
              "      display: none;\n",
              "      fill: #1967D2;\n",
              "      height: 32px;\n",
              "      padding: 0 0 0 0;\n",
              "      width: 32px;\n",
              "    }\n",
              "\n",
              "    .colab-df-convert:hover {\n",
              "      background-color: #E2EBFA;\n",
              "      box-shadow: 0px 1px 2px rgba(60, 64, 67, 0.3), 0px 1px 3px 1px rgba(60, 64, 67, 0.15);\n",
              "      fill: #174EA6;\n",
              "    }\n",
              "\n",
              "    .colab-df-buttons div {\n",
              "      margin-bottom: 4px;\n",
              "    }\n",
              "\n",
              "    [theme=dark] .colab-df-convert {\n",
              "      background-color: #3B4455;\n",
              "      fill: #D2E3FC;\n",
              "    }\n",
              "\n",
              "    [theme=dark] .colab-df-convert:hover {\n",
              "      background-color: #434B5C;\n",
              "      box-shadow: 0px 1px 3px 1px rgba(0, 0, 0, 0.15);\n",
              "      filter: drop-shadow(0px 1px 2px rgba(0, 0, 0, 0.3));\n",
              "      fill: #FFFFFF;\n",
              "    }\n",
              "  </style>\n",
              "\n",
              "    <script>\n",
              "      const buttonEl =\n",
              "        document.querySelector('#df-cc3ff61c-a362-4716-8b1b-4d5ea5e767cb button.colab-df-convert');\n",
              "      buttonEl.style.display =\n",
              "        google.colab.kernel.accessAllowed ? 'block' : 'none';\n",
              "\n",
              "      async function convertToInteractive(key) {\n",
              "        const element = document.querySelector('#df-cc3ff61c-a362-4716-8b1b-4d5ea5e767cb');\n",
              "        const dataTable =\n",
              "          await google.colab.kernel.invokeFunction('convertToInteractive',\n",
              "                                                    [key], {});\n",
              "        if (!dataTable) return;\n",
              "\n",
              "        const docLinkHtml = 'Like what you see? Visit the ' +\n",
              "          '<a target=\"_blank\" href=https://colab.research.google.com/notebooks/data_table.ipynb>data table notebook</a>'\n",
              "          + ' to learn more about interactive tables.';\n",
              "        element.innerHTML = '';\n",
              "        dataTable['output_type'] = 'display_data';\n",
              "        await google.colab.output.renderOutput(dataTable, element);\n",
              "        const docLink = document.createElement('div');\n",
              "        docLink.innerHTML = docLinkHtml;\n",
              "        element.appendChild(docLink);\n",
              "      }\n",
              "    </script>\n",
              "  </div>\n",
              "\n",
              "\n",
              "<div id=\"df-df134871-b38a-426b-82b1-a5e9b8e4fda5\">\n",
              "  <button class=\"colab-df-quickchart\" onclick=\"quickchart('df-df134871-b38a-426b-82b1-a5e9b8e4fda5')\"\n",
              "            title=\"Suggest charts\"\n",
              "            style=\"display:none;\">\n",
              "\n",
              "<svg xmlns=\"http://www.w3.org/2000/svg\" height=\"24px\"viewBox=\"0 0 24 24\"\n",
              "     width=\"24px\">\n",
              "    <g>\n",
              "        <path d=\"M19 3H5c-1.1 0-2 .9-2 2v14c0 1.1.9 2 2 2h14c1.1 0 2-.9 2-2V5c0-1.1-.9-2-2-2zM9 17H7v-7h2v7zm4 0h-2V7h2v10zm4 0h-2v-4h2v4z\"/>\n",
              "    </g>\n",
              "</svg>\n",
              "  </button>\n",
              "\n",
              "<style>\n",
              "  .colab-df-quickchart {\n",
              "      --bg-color: #E8F0FE;\n",
              "      --fill-color: #1967D2;\n",
              "      --hover-bg-color: #E2EBFA;\n",
              "      --hover-fill-color: #174EA6;\n",
              "      --disabled-fill-color: #AAA;\n",
              "      --disabled-bg-color: #DDD;\n",
              "  }\n",
              "\n",
              "  [theme=dark] .colab-df-quickchart {\n",
              "      --bg-color: #3B4455;\n",
              "      --fill-color: #D2E3FC;\n",
              "      --hover-bg-color: #434B5C;\n",
              "      --hover-fill-color: #FFFFFF;\n",
              "      --disabled-bg-color: #3B4455;\n",
              "      --disabled-fill-color: #666;\n",
              "  }\n",
              "\n",
              "  .colab-df-quickchart {\n",
              "    background-color: var(--bg-color);\n",
              "    border: none;\n",
              "    border-radius: 50%;\n",
              "    cursor: pointer;\n",
              "    display: none;\n",
              "    fill: var(--fill-color);\n",
              "    height: 32px;\n",
              "    padding: 0;\n",
              "    width: 32px;\n",
              "  }\n",
              "\n",
              "  .colab-df-quickchart:hover {\n",
              "    background-color: var(--hover-bg-color);\n",
              "    box-shadow: 0 1px 2px rgba(60, 64, 67, 0.3), 0 1px 3px 1px rgba(60, 64, 67, 0.15);\n",
              "    fill: var(--button-hover-fill-color);\n",
              "  }\n",
              "\n",
              "  .colab-df-quickchart-complete:disabled,\n",
              "  .colab-df-quickchart-complete:disabled:hover {\n",
              "    background-color: var(--disabled-bg-color);\n",
              "    fill: var(--disabled-fill-color);\n",
              "    box-shadow: none;\n",
              "  }\n",
              "\n",
              "  .colab-df-spinner {\n",
              "    border: 2px solid var(--fill-color);\n",
              "    border-color: transparent;\n",
              "    border-bottom-color: var(--fill-color);\n",
              "    animation:\n",
              "      spin 1s steps(1) infinite;\n",
              "  }\n",
              "\n",
              "  @keyframes spin {\n",
              "    0% {\n",
              "      border-color: transparent;\n",
              "      border-bottom-color: var(--fill-color);\n",
              "      border-left-color: var(--fill-color);\n",
              "    }\n",
              "    20% {\n",
              "      border-color: transparent;\n",
              "      border-left-color: var(--fill-color);\n",
              "      border-top-color: var(--fill-color);\n",
              "    }\n",
              "    30% {\n",
              "      border-color: transparent;\n",
              "      border-left-color: var(--fill-color);\n",
              "      border-top-color: var(--fill-color);\n",
              "      border-right-color: var(--fill-color);\n",
              "    }\n",
              "    40% {\n",
              "      border-color: transparent;\n",
              "      border-right-color: var(--fill-color);\n",
              "      border-top-color: var(--fill-color);\n",
              "    }\n",
              "    60% {\n",
              "      border-color: transparent;\n",
              "      border-right-color: var(--fill-color);\n",
              "    }\n",
              "    80% {\n",
              "      border-color: transparent;\n",
              "      border-right-color: var(--fill-color);\n",
              "      border-bottom-color: var(--fill-color);\n",
              "    }\n",
              "    90% {\n",
              "      border-color: transparent;\n",
              "      border-bottom-color: var(--fill-color);\n",
              "    }\n",
              "  }\n",
              "</style>\n",
              "\n",
              "  <script>\n",
              "    async function quickchart(key) {\n",
              "      const quickchartButtonEl =\n",
              "        document.querySelector('#' + key + ' button');\n",
              "      quickchartButtonEl.disabled = true;  // To prevent multiple clicks.\n",
              "      quickchartButtonEl.classList.add('colab-df-spinner');\n",
              "      try {\n",
              "        const charts = await google.colab.kernel.invokeFunction(\n",
              "            'suggestCharts', [key], {});\n",
              "      } catch (error) {\n",
              "        console.error('Error during call to suggestCharts:', error);\n",
              "      }\n",
              "      quickchartButtonEl.classList.remove('colab-df-spinner');\n",
              "      quickchartButtonEl.classList.add('colab-df-quickchart-complete');\n",
              "    }\n",
              "    (() => {\n",
              "      let quickchartButtonEl =\n",
              "        document.querySelector('#df-df134871-b38a-426b-82b1-a5e9b8e4fda5 button');\n",
              "      quickchartButtonEl.style.display =\n",
              "        google.colab.kernel.accessAllowed ? 'block' : 'none';\n",
              "    })();\n",
              "  </script>\n",
              "</div>\n",
              "\n",
              "  <div id=\"id_e3d35ef5-743c-4826-9151-6eacc84dab3e\">\n",
              "    <style>\n",
              "      .colab-df-generate {\n",
              "        background-color: #E8F0FE;\n",
              "        border: none;\n",
              "        border-radius: 50%;\n",
              "        cursor: pointer;\n",
              "        display: none;\n",
              "        fill: #1967D2;\n",
              "        height: 32px;\n",
              "        padding: 0 0 0 0;\n",
              "        width: 32px;\n",
              "      }\n",
              "\n",
              "      .colab-df-generate:hover {\n",
              "        background-color: #E2EBFA;\n",
              "        box-shadow: 0px 1px 2px rgba(60, 64, 67, 0.3), 0px 1px 3px 1px rgba(60, 64, 67, 0.15);\n",
              "        fill: #174EA6;\n",
              "      }\n",
              "\n",
              "      [theme=dark] .colab-df-generate {\n",
              "        background-color: #3B4455;\n",
              "        fill: #D2E3FC;\n",
              "      }\n",
              "\n",
              "      [theme=dark] .colab-df-generate:hover {\n",
              "        background-color: #434B5C;\n",
              "        box-shadow: 0px 1px 3px 1px rgba(0, 0, 0, 0.15);\n",
              "        filter: drop-shadow(0px 1px 2px rgba(0, 0, 0, 0.3));\n",
              "        fill: #FFFFFF;\n",
              "      }\n",
              "    </style>\n",
              "    <button class=\"colab-df-generate\" onclick=\"generateWithVariable('df')\"\n",
              "            title=\"Generate code using this dataframe.\"\n",
              "            style=\"display:none;\">\n",
              "\n",
              "  <svg xmlns=\"http://www.w3.org/2000/svg\" height=\"24px\"viewBox=\"0 0 24 24\"\n",
              "       width=\"24px\">\n",
              "    <path d=\"M7,19H8.4L18.45,9,17,7.55,7,17.6ZM5,21V16.75L18.45,3.32a2,2,0,0,1,2.83,0l1.4,1.43a1.91,1.91,0,0,1,.58,1.4,1.91,1.91,0,0,1-.58,1.4L9.25,21ZM18.45,9,17,7.55Zm-12,3A5.31,5.31,0,0,0,4.9,8.1,5.31,5.31,0,0,0,1,6.5,5.31,5.31,0,0,0,4.9,4.9,5.31,5.31,0,0,0,6.5,1,5.31,5.31,0,0,0,8.1,4.9,5.31,5.31,0,0,0,12,6.5,5.46,5.46,0,0,0,6.5,12Z\"/>\n",
              "  </svg>\n",
              "    </button>\n",
              "    <script>\n",
              "      (() => {\n",
              "      const buttonEl =\n",
              "        document.querySelector('#id_e3d35ef5-743c-4826-9151-6eacc84dab3e button.colab-df-generate');\n",
              "      buttonEl.style.display =\n",
              "        google.colab.kernel.accessAllowed ? 'block' : 'none';\n",
              "\n",
              "      buttonEl.onclick = () => {\n",
              "        google.colab.notebook.generateWithVariable('df');\n",
              "      }\n",
              "      })();\n",
              "    </script>\n",
              "  </div>\n",
              "\n",
              "    </div>\n",
              "  </div>\n"
            ],
            "application/vnd.google.colaboratory.intrinsic+json": {
              "type": "dataframe",
              "variable_name": "df",
              "summary": "{\n  \"name\": \"df\",\n  \"rows\": 16,\n  \"fields\": [\n    {\n      \"column\": \"product\",\n      \"properties\": {\n        \"dtype\": \"string\",\n        \"num_unique_values\": 16,\n        \"samples\": [\n          \"Oneplus Nord CE4 (Celadon Marble, 8GB RAM, 128GB Storage)\",\n          \"Redmi 13C (Stardust Black, 6GB RAM, 128GB Storage) | Powered by 4G MediaTek Helio G85 | 90Hz Display | 50MP AI Triple Camera\",\n          \"realme narzo N53 (Feather Gold, 8GB+128GB) 33W Segment Fastest Charging | Slimmest Phone in Segment | 90 Hz Smooth Display\"\n        ],\n        \"semantic_type\": \"\",\n        \"description\": \"\"\n      }\n    },\n    {\n      \"column\": \"rating\",\n      \"properties\": {\n        \"dtype\": \"category\",\n        \"num_unique_values\": 4,\n        \"samples\": [\n          \"4.0 out of 5 stars \",\n          \"5.0 out of 5 stars \",\n          \"4.1 out of 5 stars \"\n        ],\n        \"semantic_type\": \"\",\n        \"description\": \"\"\n      }\n    },\n    {\n      \"column\": \"no_of_reviews\",\n      \"properties\": {\n        \"dtype\": \"string\",\n        \"num_unique_values\": 9,\n        \"samples\": [\n          \"471  \",\n          \"15,472  \",\n          \"1  \"\n        ],\n        \"semantic_type\": \"\",\n        \"description\": \"\"\n      }\n    },\n    {\n      \"column\": \"price\",\n      \"properties\": {\n        \"dtype\": \"string\",\n        \"num_unique_values\": 12,\n        \"samples\": [\n          \"30,930\",\n          \"10,999\",\n          \"24,999\"\n        ],\n        \"semantic_type\": \"\",\n        \"description\": \"\"\n      }\n    },\n    {\n      \"column\": \"category\",\n      \"properties\": {\n        \"dtype\": \"category\",\n        \"num_unique_values\": 1,\n        \"samples\": [\n          \"mobile\"\n        ],\n        \"semantic_type\": \"\",\n        \"description\": \"\"\n      }\n    }\n  ]\n}"
            }
          },
          "metadata": {},
          "execution_count": 192
        }
      ]
    },
    {
      "cell_type": "markdown",
      "source": [
        "###Extracting Brand from product"
      ],
      "metadata": {
        "id": "F4ozFLNVv0aD"
      }
    },
    {
      "cell_type": "code",
      "source": [
        "df['Brand']=df['product'].apply(lambda x:x.split()[0])"
      ],
      "metadata": {
        "id": "VNOzU8HFkI4N"
      },
      "execution_count": 193,
      "outputs": []
    },
    {
      "cell_type": "code",
      "source": [
        "df['rating']"
      ],
      "metadata": {
        "colab": {
          "base_uri": "https://localhost:8080/"
        },
        "id": "DEgHQD__qkp3",
        "outputId": "dc707175-2fe9-4fc3-9e94-6464a3f8c6dd"
      },
      "execution_count": 194,
      "outputs": [
        {
          "output_type": "execute_result",
          "data": {
            "text/plain": [
              "0                     NaN\n",
              "1     4.1 out of 5 stars \n",
              "2     4.0 out of 5 stars \n",
              "3     4.0 out of 5 stars \n",
              "4                     NaN\n",
              "5     4.0 out of 5 stars \n",
              "6     4.1 out of 5 stars \n",
              "7     4.2 out of 5 stars \n",
              "8     4.1 out of 5 stars \n",
              "9     4.0 out of 5 stars \n",
              "10    4.1 out of 5 stars \n",
              "11    4.1 out of 5 stars \n",
              "12    5.0 out of 5 stars \n",
              "13    4.0 out of 5 stars \n",
              "14    4.2 out of 5 stars \n",
              "15    4.2 out of 5 stars \n",
              "Name: rating, dtype: object"
            ]
          },
          "metadata": {},
          "execution_count": 194
        }
      ]
    },
    {
      "cell_type": "markdown",
      "source": [
        "### Extracting model name"
      ],
      "metadata": {
        "id": "oidQoP2Dwp5C"
      }
    },
    {
      "cell_type": "code",
      "source": [
        "df['model']=df['product'].apply(lambda x:x.split('(')[0])"
      ],
      "metadata": {
        "id": "7690lmqawore"
      },
      "execution_count": 195,
      "outputs": []
    },
    {
      "cell_type": "markdown",
      "source": [
        "### Extracting description"
      ],
      "metadata": {
        "id": "mOVBxfFjMQnw"
      }
    },
    {
      "cell_type": "code",
      "source": [
        "df['description']=df['product'].apply(lambda x:' '.join(x.split('(')[1:]))"
      ],
      "metadata": {
        "id": "uTpHnKXixA17"
      },
      "execution_count": 196,
      "outputs": []
    },
    {
      "cell_type": "markdown",
      "source": [
        "### Dropping product column"
      ],
      "metadata": {
        "id": "CJ6bjKZ3xvXM"
      }
    },
    {
      "cell_type": "code",
      "source": [
        "df.drop('product',inplace=True,axis=1)"
      ],
      "metadata": {
        "id": "-vFhksJ8x37Y"
      },
      "execution_count": 197,
      "outputs": []
    },
    {
      "cell_type": "markdown",
      "source": [
        "### Extracting Exact rating"
      ],
      "metadata": {
        "id": "mieAgxqByZIq"
      }
    },
    {
      "cell_type": "code",
      "source": [
        "df['rating']=df['rating'].fillna('0 out of 5')"
      ],
      "metadata": {
        "id": "FzXfveSKq-s1"
      },
      "execution_count": 198,
      "outputs": []
    },
    {
      "cell_type": "code",
      "source": [
        "df['rating'] = df['rating'].apply(lambda x:x.split()[0])"
      ],
      "metadata": {
        "id": "W3cP7JuOyd5i"
      },
      "execution_count": 199,
      "outputs": []
    },
    {
      "cell_type": "code",
      "source": [
        "\n",
        "\n",
        "df = df[['Brand', 'model', 'description', 'rating', 'no_of_reviews', 'price','category']]\n",
        "df.head()\n"
      ],
      "metadata": {
        "colab": {
          "base_uri": "https://localhost:8080/",
          "height": 206
        },
        "id": "4ZfsoulXyA0X",
        "outputId": "fad71494-3fdc-41b2-9567-f4d179cc10fa"
      },
      "execution_count": 200,
      "outputs": [
        {
          "output_type": "execute_result",
          "data": {
            "text/plain": [
              "     Brand              model  \\\n",
              "0  Oneplus  Oneplus Nord CE4    \n",
              "1    Redmi         Redmi 13C    \n",
              "2   realme  realme narzo N53    \n",
              "3   realme  realme narzo N53    \n",
              "4  Oneplus  Oneplus Nord CE4    \n",
              "\n",
              "                                         description rating no_of_reviews  \\\n",
              "0            Celadon Marble, 8GB RAM, 128GB Storage)      0           NaN   \n",
              "1  Stardust Black, 6GB RAM, 128GB Storage) | Powe...    4.1       2,939     \n",
              "2  Feather Gold, 4GB+64GB) 33W Segment Fastest Ch...    4.0      15,472     \n",
              "3  Feather Black, 4GB+64GB) 33W Segment Fastest C...    4.0      15,472     \n",
              "4               Dark Chrome, 8GB RAM, 256GB Storage)      0           NaN   \n",
              "\n",
              "    price category  \n",
              "0  24,999   mobile  \n",
              "1   8,699   mobile  \n",
              "2   7,499   mobile  \n",
              "3   8,999   mobile  \n",
              "4  26,999   mobile  "
            ],
            "text/html": [
              "\n",
              "  <div id=\"df-500e801e-5ddc-4c71-9860-6c5dce564bee\" class=\"colab-df-container\">\n",
              "    <div>\n",
              "<style scoped>\n",
              "    .dataframe tbody tr th:only-of-type {\n",
              "        vertical-align: middle;\n",
              "    }\n",
              "\n",
              "    .dataframe tbody tr th {\n",
              "        vertical-align: top;\n",
              "    }\n",
              "\n",
              "    .dataframe thead th {\n",
              "        text-align: right;\n",
              "    }\n",
              "</style>\n",
              "<table border=\"1\" class=\"dataframe\">\n",
              "  <thead>\n",
              "    <tr style=\"text-align: right;\">\n",
              "      <th></th>\n",
              "      <th>Brand</th>\n",
              "      <th>model</th>\n",
              "      <th>description</th>\n",
              "      <th>rating</th>\n",
              "      <th>no_of_reviews</th>\n",
              "      <th>price</th>\n",
              "      <th>category</th>\n",
              "    </tr>\n",
              "  </thead>\n",
              "  <tbody>\n",
              "    <tr>\n",
              "      <th>0</th>\n",
              "      <td>Oneplus</td>\n",
              "      <td>Oneplus Nord CE4</td>\n",
              "      <td>Celadon Marble, 8GB RAM, 128GB Storage)</td>\n",
              "      <td>0</td>\n",
              "      <td>NaN</td>\n",
              "      <td>24,999</td>\n",
              "      <td>mobile</td>\n",
              "    </tr>\n",
              "    <tr>\n",
              "      <th>1</th>\n",
              "      <td>Redmi</td>\n",
              "      <td>Redmi 13C</td>\n",
              "      <td>Stardust Black, 6GB RAM, 128GB Storage) | Powe...</td>\n",
              "      <td>4.1</td>\n",
              "      <td>2,939</td>\n",
              "      <td>8,699</td>\n",
              "      <td>mobile</td>\n",
              "    </tr>\n",
              "    <tr>\n",
              "      <th>2</th>\n",
              "      <td>realme</td>\n",
              "      <td>realme narzo N53</td>\n",
              "      <td>Feather Gold, 4GB+64GB) 33W Segment Fastest Ch...</td>\n",
              "      <td>4.0</td>\n",
              "      <td>15,472</td>\n",
              "      <td>7,499</td>\n",
              "      <td>mobile</td>\n",
              "    </tr>\n",
              "    <tr>\n",
              "      <th>3</th>\n",
              "      <td>realme</td>\n",
              "      <td>realme narzo N53</td>\n",
              "      <td>Feather Black, 4GB+64GB) 33W Segment Fastest C...</td>\n",
              "      <td>4.0</td>\n",
              "      <td>15,472</td>\n",
              "      <td>8,999</td>\n",
              "      <td>mobile</td>\n",
              "    </tr>\n",
              "    <tr>\n",
              "      <th>4</th>\n",
              "      <td>Oneplus</td>\n",
              "      <td>Oneplus Nord CE4</td>\n",
              "      <td>Dark Chrome, 8GB RAM, 256GB Storage)</td>\n",
              "      <td>0</td>\n",
              "      <td>NaN</td>\n",
              "      <td>26,999</td>\n",
              "      <td>mobile</td>\n",
              "    </tr>\n",
              "  </tbody>\n",
              "</table>\n",
              "</div>\n",
              "    <div class=\"colab-df-buttons\">\n",
              "\n",
              "  <div class=\"colab-df-container\">\n",
              "    <button class=\"colab-df-convert\" onclick=\"convertToInteractive('df-500e801e-5ddc-4c71-9860-6c5dce564bee')\"\n",
              "            title=\"Convert this dataframe to an interactive table.\"\n",
              "            style=\"display:none;\">\n",
              "\n",
              "  <svg xmlns=\"http://www.w3.org/2000/svg\" height=\"24px\" viewBox=\"0 -960 960 960\">\n",
              "    <path d=\"M120-120v-720h720v720H120Zm60-500h600v-160H180v160Zm220 220h160v-160H400v160Zm0 220h160v-160H400v160ZM180-400h160v-160H180v160Zm440 0h160v-160H620v160ZM180-180h160v-160H180v160Zm440 0h160v-160H620v160Z\"/>\n",
              "  </svg>\n",
              "    </button>\n",
              "\n",
              "  <style>\n",
              "    .colab-df-container {\n",
              "      display:flex;\n",
              "      gap: 12px;\n",
              "    }\n",
              "\n",
              "    .colab-df-convert {\n",
              "      background-color: #E8F0FE;\n",
              "      border: none;\n",
              "      border-radius: 50%;\n",
              "      cursor: pointer;\n",
              "      display: none;\n",
              "      fill: #1967D2;\n",
              "      height: 32px;\n",
              "      padding: 0 0 0 0;\n",
              "      width: 32px;\n",
              "    }\n",
              "\n",
              "    .colab-df-convert:hover {\n",
              "      background-color: #E2EBFA;\n",
              "      box-shadow: 0px 1px 2px rgba(60, 64, 67, 0.3), 0px 1px 3px 1px rgba(60, 64, 67, 0.15);\n",
              "      fill: #174EA6;\n",
              "    }\n",
              "\n",
              "    .colab-df-buttons div {\n",
              "      margin-bottom: 4px;\n",
              "    }\n",
              "\n",
              "    [theme=dark] .colab-df-convert {\n",
              "      background-color: #3B4455;\n",
              "      fill: #D2E3FC;\n",
              "    }\n",
              "\n",
              "    [theme=dark] .colab-df-convert:hover {\n",
              "      background-color: #434B5C;\n",
              "      box-shadow: 0px 1px 3px 1px rgba(0, 0, 0, 0.15);\n",
              "      filter: drop-shadow(0px 1px 2px rgba(0, 0, 0, 0.3));\n",
              "      fill: #FFFFFF;\n",
              "    }\n",
              "  </style>\n",
              "\n",
              "    <script>\n",
              "      const buttonEl =\n",
              "        document.querySelector('#df-500e801e-5ddc-4c71-9860-6c5dce564bee button.colab-df-convert');\n",
              "      buttonEl.style.display =\n",
              "        google.colab.kernel.accessAllowed ? 'block' : 'none';\n",
              "\n",
              "      async function convertToInteractive(key) {\n",
              "        const element = document.querySelector('#df-500e801e-5ddc-4c71-9860-6c5dce564bee');\n",
              "        const dataTable =\n",
              "          await google.colab.kernel.invokeFunction('convertToInteractive',\n",
              "                                                    [key], {});\n",
              "        if (!dataTable) return;\n",
              "\n",
              "        const docLinkHtml = 'Like what you see? Visit the ' +\n",
              "          '<a target=\"_blank\" href=https://colab.research.google.com/notebooks/data_table.ipynb>data table notebook</a>'\n",
              "          + ' to learn more about interactive tables.';\n",
              "        element.innerHTML = '';\n",
              "        dataTable['output_type'] = 'display_data';\n",
              "        await google.colab.output.renderOutput(dataTable, element);\n",
              "        const docLink = document.createElement('div');\n",
              "        docLink.innerHTML = docLinkHtml;\n",
              "        element.appendChild(docLink);\n",
              "      }\n",
              "    </script>\n",
              "  </div>\n",
              "\n",
              "\n",
              "<div id=\"df-3c05f009-b681-4cb2-9457-a858d534de19\">\n",
              "  <button class=\"colab-df-quickchart\" onclick=\"quickchart('df-3c05f009-b681-4cb2-9457-a858d534de19')\"\n",
              "            title=\"Suggest charts\"\n",
              "            style=\"display:none;\">\n",
              "\n",
              "<svg xmlns=\"http://www.w3.org/2000/svg\" height=\"24px\"viewBox=\"0 0 24 24\"\n",
              "     width=\"24px\">\n",
              "    <g>\n",
              "        <path d=\"M19 3H5c-1.1 0-2 .9-2 2v14c0 1.1.9 2 2 2h14c1.1 0 2-.9 2-2V5c0-1.1-.9-2-2-2zM9 17H7v-7h2v7zm4 0h-2V7h2v10zm4 0h-2v-4h2v4z\"/>\n",
              "    </g>\n",
              "</svg>\n",
              "  </button>\n",
              "\n",
              "<style>\n",
              "  .colab-df-quickchart {\n",
              "      --bg-color: #E8F0FE;\n",
              "      --fill-color: #1967D2;\n",
              "      --hover-bg-color: #E2EBFA;\n",
              "      --hover-fill-color: #174EA6;\n",
              "      --disabled-fill-color: #AAA;\n",
              "      --disabled-bg-color: #DDD;\n",
              "  }\n",
              "\n",
              "  [theme=dark] .colab-df-quickchart {\n",
              "      --bg-color: #3B4455;\n",
              "      --fill-color: #D2E3FC;\n",
              "      --hover-bg-color: #434B5C;\n",
              "      --hover-fill-color: #FFFFFF;\n",
              "      --disabled-bg-color: #3B4455;\n",
              "      --disabled-fill-color: #666;\n",
              "  }\n",
              "\n",
              "  .colab-df-quickchart {\n",
              "    background-color: var(--bg-color);\n",
              "    border: none;\n",
              "    border-radius: 50%;\n",
              "    cursor: pointer;\n",
              "    display: none;\n",
              "    fill: var(--fill-color);\n",
              "    height: 32px;\n",
              "    padding: 0;\n",
              "    width: 32px;\n",
              "  }\n",
              "\n",
              "  .colab-df-quickchart:hover {\n",
              "    background-color: var(--hover-bg-color);\n",
              "    box-shadow: 0 1px 2px rgba(60, 64, 67, 0.3), 0 1px 3px 1px rgba(60, 64, 67, 0.15);\n",
              "    fill: var(--button-hover-fill-color);\n",
              "  }\n",
              "\n",
              "  .colab-df-quickchart-complete:disabled,\n",
              "  .colab-df-quickchart-complete:disabled:hover {\n",
              "    background-color: var(--disabled-bg-color);\n",
              "    fill: var(--disabled-fill-color);\n",
              "    box-shadow: none;\n",
              "  }\n",
              "\n",
              "  .colab-df-spinner {\n",
              "    border: 2px solid var(--fill-color);\n",
              "    border-color: transparent;\n",
              "    border-bottom-color: var(--fill-color);\n",
              "    animation:\n",
              "      spin 1s steps(1) infinite;\n",
              "  }\n",
              "\n",
              "  @keyframes spin {\n",
              "    0% {\n",
              "      border-color: transparent;\n",
              "      border-bottom-color: var(--fill-color);\n",
              "      border-left-color: var(--fill-color);\n",
              "    }\n",
              "    20% {\n",
              "      border-color: transparent;\n",
              "      border-left-color: var(--fill-color);\n",
              "      border-top-color: var(--fill-color);\n",
              "    }\n",
              "    30% {\n",
              "      border-color: transparent;\n",
              "      border-left-color: var(--fill-color);\n",
              "      border-top-color: var(--fill-color);\n",
              "      border-right-color: var(--fill-color);\n",
              "    }\n",
              "    40% {\n",
              "      border-color: transparent;\n",
              "      border-right-color: var(--fill-color);\n",
              "      border-top-color: var(--fill-color);\n",
              "    }\n",
              "    60% {\n",
              "      border-color: transparent;\n",
              "      border-right-color: var(--fill-color);\n",
              "    }\n",
              "    80% {\n",
              "      border-color: transparent;\n",
              "      border-right-color: var(--fill-color);\n",
              "      border-bottom-color: var(--fill-color);\n",
              "    }\n",
              "    90% {\n",
              "      border-color: transparent;\n",
              "      border-bottom-color: var(--fill-color);\n",
              "    }\n",
              "  }\n",
              "</style>\n",
              "\n",
              "  <script>\n",
              "    async function quickchart(key) {\n",
              "      const quickchartButtonEl =\n",
              "        document.querySelector('#' + key + ' button');\n",
              "      quickchartButtonEl.disabled = true;  // To prevent multiple clicks.\n",
              "      quickchartButtonEl.classList.add('colab-df-spinner');\n",
              "      try {\n",
              "        const charts = await google.colab.kernel.invokeFunction(\n",
              "            'suggestCharts', [key], {});\n",
              "      } catch (error) {\n",
              "        console.error('Error during call to suggestCharts:', error);\n",
              "      }\n",
              "      quickchartButtonEl.classList.remove('colab-df-spinner');\n",
              "      quickchartButtonEl.classList.add('colab-df-quickchart-complete');\n",
              "    }\n",
              "    (() => {\n",
              "      let quickchartButtonEl =\n",
              "        document.querySelector('#df-3c05f009-b681-4cb2-9457-a858d534de19 button');\n",
              "      quickchartButtonEl.style.display =\n",
              "        google.colab.kernel.accessAllowed ? 'block' : 'none';\n",
              "    })();\n",
              "  </script>\n",
              "</div>\n",
              "\n",
              "    </div>\n",
              "  </div>\n"
            ],
            "application/vnd.google.colaboratory.intrinsic+json": {
              "type": "dataframe",
              "variable_name": "df",
              "summary": "{\n  \"name\": \"df\",\n  \"rows\": 16,\n  \"fields\": [\n    {\n      \"column\": \"Brand\",\n      \"properties\": {\n        \"dtype\": \"category\",\n        \"num_unique_values\": 6,\n        \"samples\": [\n          \"Oneplus\",\n          \"Redmi\",\n          \"Xiaomi\"\n        ],\n        \"semantic_type\": \"\",\n        \"description\": \"\"\n      }\n    },\n    {\n      \"column\": \"model\",\n      \"properties\": {\n        \"dtype\": \"string\",\n        \"num_unique_values\": 10,\n        \"samples\": [\n          \"Vivo T2x 5G \",\n          \"Redmi 13C \",\n          \"realme narzo 60X 5G \"\n        ],\n        \"semantic_type\": \"\",\n        \"description\": \"\"\n      }\n    },\n    {\n      \"column\": \"description\",\n      \"properties\": {\n        \"dtype\": \"string\",\n        \"num_unique_values\": 15,\n        \"samples\": [\n          \"\",\n          \"Starfrost White, 8GB RAM, 256GB Storage) | Powered by 4G MediaTek Helio G85 | 90Hz Display | 50MP AI Triple Camera\",\n          \"Celadon Marble, 8GB RAM, 128GB Storage)\"\n        ],\n        \"semantic_type\": \"\",\n        \"description\": \"\"\n      }\n    },\n    {\n      \"column\": \"rating\",\n      \"properties\": {\n        \"dtype\": \"category\",\n        \"num_unique_values\": 5,\n        \"samples\": [\n          \"4.1\",\n          \"5.0\",\n          \"4.0\"\n        ],\n        \"semantic_type\": \"\",\n        \"description\": \"\"\n      }\n    },\n    {\n      \"column\": \"no_of_reviews\",\n      \"properties\": {\n        \"dtype\": \"string\",\n        \"num_unique_values\": 9,\n        \"samples\": [\n          \"471  \",\n          \"15,472  \",\n          \"1  \"\n        ],\n        \"semantic_type\": \"\",\n        \"description\": \"\"\n      }\n    },\n    {\n      \"column\": \"price\",\n      \"properties\": {\n        \"dtype\": \"string\",\n        \"num_unique_values\": 12,\n        \"samples\": [\n          \"30,930\",\n          \"10,999\",\n          \"24,999\"\n        ],\n        \"semantic_type\": \"\",\n        \"description\": \"\"\n      }\n    },\n    {\n      \"column\": \"category\",\n      \"properties\": {\n        \"dtype\": \"category\",\n        \"num_unique_values\": 1,\n        \"samples\": [\n          \"mobile\"\n        ],\n        \"semantic_type\": \"\",\n        \"description\": \"\"\n      }\n    }\n  ]\n}"
            }
          },
          "metadata": {},
          "execution_count": 200
        }
      ]
    },
    {
      "cell_type": "markdown",
      "source": [
        "# Laptops"
      ],
      "metadata": {
        "id": "l6hAJYag1a0h"
      }
    },
    {
      "cell_type": "code",
      "source": [
        "products=[]\n",
        "ratings=[]\n",
        "prices=[]\n",
        "no_of_reviews=[]\n",
        "webpage=requests.get(\"https://www.amazon.in/s?k=laptop\",headers=headers).text\n",
        "soup=BeautifulSoup(webpage,'lxml')\n",
        "amazon=soup.find_all('div', class_='puisg-col puisg-col-4-of-12 puisg-col-8-of-16 puisg-col-12-of-20 puisg-col-12-of-24 puis-list-col-right')\n",
        "for i in amazon:\n",
        "     product=i.find('span',class_='a-size-medium a-color-base a-text-normal').text\n",
        "     try:\n",
        "       rate=i.find('div',class_='a-row a-size-small')\n",
        "       rating=[j.text for j in rate]\n",
        "       rate=rating[0]\n",
        "       no_of_review=rating[1]\n",
        "       ratings.append(rate)\n",
        "       no_of_reviews.append(no_of_review)\n",
        "     except:\n",
        "       rating.append(np.nan)\n",
        "       no_of_reviews.append(np.nan)\n",
        "     price=i.find('span',class_='a-price-whole').text\n",
        "     products.append(product)\n",
        "     prices.append(price)\n"
      ],
      "metadata": {
        "id": "KHMxEFTLz3Xx"
      },
      "execution_count": 201,
      "outputs": []
    },
    {
      "cell_type": "code",
      "source": [
        "dic={'product':products,'rating':ratings,'no_of_reviews':no_of_reviews,'price':prices}"
      ],
      "metadata": {
        "id": "b6akXFFSjoGi"
      },
      "execution_count": 202,
      "outputs": []
    },
    {
      "cell_type": "markdown",
      "source": [
        "## Creating Dataframe"
      ],
      "metadata": {
        "id": "WWwVkS6PMnDO"
      }
    },
    {
      "cell_type": "code",
      "source": [
        "df1=pd.DataFrame(dic)"
      ],
      "metadata": {
        "id": "kmEJNmpqjr5t"
      },
      "execution_count": 203,
      "outputs": []
    },
    {
      "cell_type": "code",
      "source": [
        "df1"
      ],
      "metadata": {
        "colab": {
          "base_uri": "https://localhost:8080/",
          "height": 551
        },
        "id": "OUFVDg_AMNoN",
        "outputId": "83c6b216-f841-4711-a706-b02f293b8c5e"
      },
      "execution_count": 204,
      "outputs": [
        {
          "output_type": "execute_result",
          "data": {
            "text/plain": [
              "                                              product               rating  \\\n",
              "0   HP Laptop 15s, 12th Gen Intel Core i3, 15.6-in...  4.1 out of 5 stars    \n",
              "1   Dell 14 Laptop, 12th Gen Intel Core i3-1215U P...  3.8 out of 5 stars    \n",
              "2   ASUS VivoBook 15 (2021), 15.6-inch (39.62 cm) ...  3.9 out of 5 stars    \n",
              "3   Samsung Galaxy Book2 (NP750) Intel 12th Gen co...  4.2 out of 5 stars    \n",
              "4   ASUS Vivobook 15, Intel Core i3-1220P 12th Gen...  4.0 out of 5 stars    \n",
              "5   Lenovo V15 Intel Celeron N4500 15.6\" (39.62 cm...  3.7 out of 5 stars    \n",
              "6   HP Laptop 15s, 12th Gen Intel Core i5-1235U, 1...  4.1 out of 5 stars    \n",
              "7   TECNO MEGABOOK T1,Intel Core 11th Gen i3 Proce...  4.0 out of 5 stars    \n",
              "8   Lenovo IdeaPad 1 AMD Ryzen 5 5500U 15.6\" HD Th...  4.1 out of 5 stars    \n",
              "9   Lenovo V15 AMD Ryzen 3 7320U 15.6\" (39.62cm) F...  4.1 out of 5 stars    \n",
              "10  Chuwi HeroBook Pro 14.1'' Intel Celeron N4020 ...  3.9 out of 5 stars    \n",
              "11  Acer Aspire Lite 12th Gen Intel Core i3-1215U ...  4.0 out of 5 stars    \n",
              "12  HP Laptop 15s, AMD Ryzen 3 5300U, 15.6-inch (3...  4.1 out of 5 stars    \n",
              "13  ASUS Vivobook 14, Intel Core i3-1115G4 11th Ge...  4.1 out of 5 stars    \n",
              "14  HONOR MagicBook X16 (2024), 12th Gen Intel Cor...  4.2 out of 5 stars    \n",
              "15  HP Victus Gaming Laptop, AMD Ryzen 5 5600H, 4G...  3.9 out of 5 stars    \n",
              "\n",
              "   no_of_reviews   price  \n",
              "0        1,751    37,290  \n",
              "1          468    34,990  \n",
              "2        1,417    19,990  \n",
              "3          202    48,160  \n",
              "4          544    38,990  \n",
              "5          242    20,595  \n",
              "6        1,751    53,990  \n",
              "7          697    23,990  \n",
              "8        1,719    40,490  \n",
              "9           19    26,449  \n",
              "10       3,940    16,990  \n",
              "11         662    31,990  \n",
              "12       1,292    32,054  \n",
              "13         148    31,490  \n",
              "14         316    46,990  \n",
              "15         234    48,990  "
            ],
            "text/html": [
              "\n",
              "  <div id=\"df-2b87044a-0fe0-4081-a8bf-097526e2e6f0\" class=\"colab-df-container\">\n",
              "    <div>\n",
              "<style scoped>\n",
              "    .dataframe tbody tr th:only-of-type {\n",
              "        vertical-align: middle;\n",
              "    }\n",
              "\n",
              "    .dataframe tbody tr th {\n",
              "        vertical-align: top;\n",
              "    }\n",
              "\n",
              "    .dataframe thead th {\n",
              "        text-align: right;\n",
              "    }\n",
              "</style>\n",
              "<table border=\"1\" class=\"dataframe\">\n",
              "  <thead>\n",
              "    <tr style=\"text-align: right;\">\n",
              "      <th></th>\n",
              "      <th>product</th>\n",
              "      <th>rating</th>\n",
              "      <th>no_of_reviews</th>\n",
              "      <th>price</th>\n",
              "    </tr>\n",
              "  </thead>\n",
              "  <tbody>\n",
              "    <tr>\n",
              "      <th>0</th>\n",
              "      <td>HP Laptop 15s, 12th Gen Intel Core i3, 15.6-in...</td>\n",
              "      <td>4.1 out of 5 stars</td>\n",
              "      <td>1,751</td>\n",
              "      <td>37,290</td>\n",
              "    </tr>\n",
              "    <tr>\n",
              "      <th>1</th>\n",
              "      <td>Dell 14 Laptop, 12th Gen Intel Core i3-1215U P...</td>\n",
              "      <td>3.8 out of 5 stars</td>\n",
              "      <td>468</td>\n",
              "      <td>34,990</td>\n",
              "    </tr>\n",
              "    <tr>\n",
              "      <th>2</th>\n",
              "      <td>ASUS VivoBook 15 (2021), 15.6-inch (39.62 cm) ...</td>\n",
              "      <td>3.9 out of 5 stars</td>\n",
              "      <td>1,417</td>\n",
              "      <td>19,990</td>\n",
              "    </tr>\n",
              "    <tr>\n",
              "      <th>3</th>\n",
              "      <td>Samsung Galaxy Book2 (NP750) Intel 12th Gen co...</td>\n",
              "      <td>4.2 out of 5 stars</td>\n",
              "      <td>202</td>\n",
              "      <td>48,160</td>\n",
              "    </tr>\n",
              "    <tr>\n",
              "      <th>4</th>\n",
              "      <td>ASUS Vivobook 15, Intel Core i3-1220P 12th Gen...</td>\n",
              "      <td>4.0 out of 5 stars</td>\n",
              "      <td>544</td>\n",
              "      <td>38,990</td>\n",
              "    </tr>\n",
              "    <tr>\n",
              "      <th>5</th>\n",
              "      <td>Lenovo V15 Intel Celeron N4500 15.6\" (39.62 cm...</td>\n",
              "      <td>3.7 out of 5 stars</td>\n",
              "      <td>242</td>\n",
              "      <td>20,595</td>\n",
              "    </tr>\n",
              "    <tr>\n",
              "      <th>6</th>\n",
              "      <td>HP Laptop 15s, 12th Gen Intel Core i5-1235U, 1...</td>\n",
              "      <td>4.1 out of 5 stars</td>\n",
              "      <td>1,751</td>\n",
              "      <td>53,990</td>\n",
              "    </tr>\n",
              "    <tr>\n",
              "      <th>7</th>\n",
              "      <td>TECNO MEGABOOK T1,Intel Core 11th Gen i3 Proce...</td>\n",
              "      <td>4.0 out of 5 stars</td>\n",
              "      <td>697</td>\n",
              "      <td>23,990</td>\n",
              "    </tr>\n",
              "    <tr>\n",
              "      <th>8</th>\n",
              "      <td>Lenovo IdeaPad 1 AMD Ryzen 5 5500U 15.6\" HD Th...</td>\n",
              "      <td>4.1 out of 5 stars</td>\n",
              "      <td>1,719</td>\n",
              "      <td>40,490</td>\n",
              "    </tr>\n",
              "    <tr>\n",
              "      <th>9</th>\n",
              "      <td>Lenovo V15 AMD Ryzen 3 7320U 15.6\" (39.62cm) F...</td>\n",
              "      <td>4.1 out of 5 stars</td>\n",
              "      <td>19</td>\n",
              "      <td>26,449</td>\n",
              "    </tr>\n",
              "    <tr>\n",
              "      <th>10</th>\n",
              "      <td>Chuwi HeroBook Pro 14.1'' Intel Celeron N4020 ...</td>\n",
              "      <td>3.9 out of 5 stars</td>\n",
              "      <td>3,940</td>\n",
              "      <td>16,990</td>\n",
              "    </tr>\n",
              "    <tr>\n",
              "      <th>11</th>\n",
              "      <td>Acer Aspire Lite 12th Gen Intel Core i3-1215U ...</td>\n",
              "      <td>4.0 out of 5 stars</td>\n",
              "      <td>662</td>\n",
              "      <td>31,990</td>\n",
              "    </tr>\n",
              "    <tr>\n",
              "      <th>12</th>\n",
              "      <td>HP Laptop 15s, AMD Ryzen 3 5300U, 15.6-inch (3...</td>\n",
              "      <td>4.1 out of 5 stars</td>\n",
              "      <td>1,292</td>\n",
              "      <td>32,054</td>\n",
              "    </tr>\n",
              "    <tr>\n",
              "      <th>13</th>\n",
              "      <td>ASUS Vivobook 14, Intel Core i3-1115G4 11th Ge...</td>\n",
              "      <td>4.1 out of 5 stars</td>\n",
              "      <td>148</td>\n",
              "      <td>31,490</td>\n",
              "    </tr>\n",
              "    <tr>\n",
              "      <th>14</th>\n",
              "      <td>HONOR MagicBook X16 (2024), 12th Gen Intel Cor...</td>\n",
              "      <td>4.2 out of 5 stars</td>\n",
              "      <td>316</td>\n",
              "      <td>46,990</td>\n",
              "    </tr>\n",
              "    <tr>\n",
              "      <th>15</th>\n",
              "      <td>HP Victus Gaming Laptop, AMD Ryzen 5 5600H, 4G...</td>\n",
              "      <td>3.9 out of 5 stars</td>\n",
              "      <td>234</td>\n",
              "      <td>48,990</td>\n",
              "    </tr>\n",
              "  </tbody>\n",
              "</table>\n",
              "</div>\n",
              "    <div class=\"colab-df-buttons\">\n",
              "\n",
              "  <div class=\"colab-df-container\">\n",
              "    <button class=\"colab-df-convert\" onclick=\"convertToInteractive('df-2b87044a-0fe0-4081-a8bf-097526e2e6f0')\"\n",
              "            title=\"Convert this dataframe to an interactive table.\"\n",
              "            style=\"display:none;\">\n",
              "\n",
              "  <svg xmlns=\"http://www.w3.org/2000/svg\" height=\"24px\" viewBox=\"0 -960 960 960\">\n",
              "    <path d=\"M120-120v-720h720v720H120Zm60-500h600v-160H180v160Zm220 220h160v-160H400v160Zm0 220h160v-160H400v160ZM180-400h160v-160H180v160Zm440 0h160v-160H620v160ZM180-180h160v-160H180v160Zm440 0h160v-160H620v160Z\"/>\n",
              "  </svg>\n",
              "    </button>\n",
              "\n",
              "  <style>\n",
              "    .colab-df-container {\n",
              "      display:flex;\n",
              "      gap: 12px;\n",
              "    }\n",
              "\n",
              "    .colab-df-convert {\n",
              "      background-color: #E8F0FE;\n",
              "      border: none;\n",
              "      border-radius: 50%;\n",
              "      cursor: pointer;\n",
              "      display: none;\n",
              "      fill: #1967D2;\n",
              "      height: 32px;\n",
              "      padding: 0 0 0 0;\n",
              "      width: 32px;\n",
              "    }\n",
              "\n",
              "    .colab-df-convert:hover {\n",
              "      background-color: #E2EBFA;\n",
              "      box-shadow: 0px 1px 2px rgba(60, 64, 67, 0.3), 0px 1px 3px 1px rgba(60, 64, 67, 0.15);\n",
              "      fill: #174EA6;\n",
              "    }\n",
              "\n",
              "    .colab-df-buttons div {\n",
              "      margin-bottom: 4px;\n",
              "    }\n",
              "\n",
              "    [theme=dark] .colab-df-convert {\n",
              "      background-color: #3B4455;\n",
              "      fill: #D2E3FC;\n",
              "    }\n",
              "\n",
              "    [theme=dark] .colab-df-convert:hover {\n",
              "      background-color: #434B5C;\n",
              "      box-shadow: 0px 1px 3px 1px rgba(0, 0, 0, 0.15);\n",
              "      filter: drop-shadow(0px 1px 2px rgba(0, 0, 0, 0.3));\n",
              "      fill: #FFFFFF;\n",
              "    }\n",
              "  </style>\n",
              "\n",
              "    <script>\n",
              "      const buttonEl =\n",
              "        document.querySelector('#df-2b87044a-0fe0-4081-a8bf-097526e2e6f0 button.colab-df-convert');\n",
              "      buttonEl.style.display =\n",
              "        google.colab.kernel.accessAllowed ? 'block' : 'none';\n",
              "\n",
              "      async function convertToInteractive(key) {\n",
              "        const element = document.querySelector('#df-2b87044a-0fe0-4081-a8bf-097526e2e6f0');\n",
              "        const dataTable =\n",
              "          await google.colab.kernel.invokeFunction('convertToInteractive',\n",
              "                                                    [key], {});\n",
              "        if (!dataTable) return;\n",
              "\n",
              "        const docLinkHtml = 'Like what you see? Visit the ' +\n",
              "          '<a target=\"_blank\" href=https://colab.research.google.com/notebooks/data_table.ipynb>data table notebook</a>'\n",
              "          + ' to learn more about interactive tables.';\n",
              "        element.innerHTML = '';\n",
              "        dataTable['output_type'] = 'display_data';\n",
              "        await google.colab.output.renderOutput(dataTable, element);\n",
              "        const docLink = document.createElement('div');\n",
              "        docLink.innerHTML = docLinkHtml;\n",
              "        element.appendChild(docLink);\n",
              "      }\n",
              "    </script>\n",
              "  </div>\n",
              "\n",
              "\n",
              "<div id=\"df-b9904672-d982-44f1-8d12-5c6acee9324c\">\n",
              "  <button class=\"colab-df-quickchart\" onclick=\"quickchart('df-b9904672-d982-44f1-8d12-5c6acee9324c')\"\n",
              "            title=\"Suggest charts\"\n",
              "            style=\"display:none;\">\n",
              "\n",
              "<svg xmlns=\"http://www.w3.org/2000/svg\" height=\"24px\"viewBox=\"0 0 24 24\"\n",
              "     width=\"24px\">\n",
              "    <g>\n",
              "        <path d=\"M19 3H5c-1.1 0-2 .9-2 2v14c0 1.1.9 2 2 2h14c1.1 0 2-.9 2-2V5c0-1.1-.9-2-2-2zM9 17H7v-7h2v7zm4 0h-2V7h2v10zm4 0h-2v-4h2v4z\"/>\n",
              "    </g>\n",
              "</svg>\n",
              "  </button>\n",
              "\n",
              "<style>\n",
              "  .colab-df-quickchart {\n",
              "      --bg-color: #E8F0FE;\n",
              "      --fill-color: #1967D2;\n",
              "      --hover-bg-color: #E2EBFA;\n",
              "      --hover-fill-color: #174EA6;\n",
              "      --disabled-fill-color: #AAA;\n",
              "      --disabled-bg-color: #DDD;\n",
              "  }\n",
              "\n",
              "  [theme=dark] .colab-df-quickchart {\n",
              "      --bg-color: #3B4455;\n",
              "      --fill-color: #D2E3FC;\n",
              "      --hover-bg-color: #434B5C;\n",
              "      --hover-fill-color: #FFFFFF;\n",
              "      --disabled-bg-color: #3B4455;\n",
              "      --disabled-fill-color: #666;\n",
              "  }\n",
              "\n",
              "  .colab-df-quickchart {\n",
              "    background-color: var(--bg-color);\n",
              "    border: none;\n",
              "    border-radius: 50%;\n",
              "    cursor: pointer;\n",
              "    display: none;\n",
              "    fill: var(--fill-color);\n",
              "    height: 32px;\n",
              "    padding: 0;\n",
              "    width: 32px;\n",
              "  }\n",
              "\n",
              "  .colab-df-quickchart:hover {\n",
              "    background-color: var(--hover-bg-color);\n",
              "    box-shadow: 0 1px 2px rgba(60, 64, 67, 0.3), 0 1px 3px 1px rgba(60, 64, 67, 0.15);\n",
              "    fill: var(--button-hover-fill-color);\n",
              "  }\n",
              "\n",
              "  .colab-df-quickchart-complete:disabled,\n",
              "  .colab-df-quickchart-complete:disabled:hover {\n",
              "    background-color: var(--disabled-bg-color);\n",
              "    fill: var(--disabled-fill-color);\n",
              "    box-shadow: none;\n",
              "  }\n",
              "\n",
              "  .colab-df-spinner {\n",
              "    border: 2px solid var(--fill-color);\n",
              "    border-color: transparent;\n",
              "    border-bottom-color: var(--fill-color);\n",
              "    animation:\n",
              "      spin 1s steps(1) infinite;\n",
              "  }\n",
              "\n",
              "  @keyframes spin {\n",
              "    0% {\n",
              "      border-color: transparent;\n",
              "      border-bottom-color: var(--fill-color);\n",
              "      border-left-color: var(--fill-color);\n",
              "    }\n",
              "    20% {\n",
              "      border-color: transparent;\n",
              "      border-left-color: var(--fill-color);\n",
              "      border-top-color: var(--fill-color);\n",
              "    }\n",
              "    30% {\n",
              "      border-color: transparent;\n",
              "      border-left-color: var(--fill-color);\n",
              "      border-top-color: var(--fill-color);\n",
              "      border-right-color: var(--fill-color);\n",
              "    }\n",
              "    40% {\n",
              "      border-color: transparent;\n",
              "      border-right-color: var(--fill-color);\n",
              "      border-top-color: var(--fill-color);\n",
              "    }\n",
              "    60% {\n",
              "      border-color: transparent;\n",
              "      border-right-color: var(--fill-color);\n",
              "    }\n",
              "    80% {\n",
              "      border-color: transparent;\n",
              "      border-right-color: var(--fill-color);\n",
              "      border-bottom-color: var(--fill-color);\n",
              "    }\n",
              "    90% {\n",
              "      border-color: transparent;\n",
              "      border-bottom-color: var(--fill-color);\n",
              "    }\n",
              "  }\n",
              "</style>\n",
              "\n",
              "  <script>\n",
              "    async function quickchart(key) {\n",
              "      const quickchartButtonEl =\n",
              "        document.querySelector('#' + key + ' button');\n",
              "      quickchartButtonEl.disabled = true;  // To prevent multiple clicks.\n",
              "      quickchartButtonEl.classList.add('colab-df-spinner');\n",
              "      try {\n",
              "        const charts = await google.colab.kernel.invokeFunction(\n",
              "            'suggestCharts', [key], {});\n",
              "      } catch (error) {\n",
              "        console.error('Error during call to suggestCharts:', error);\n",
              "      }\n",
              "      quickchartButtonEl.classList.remove('colab-df-spinner');\n",
              "      quickchartButtonEl.classList.add('colab-df-quickchart-complete');\n",
              "    }\n",
              "    (() => {\n",
              "      let quickchartButtonEl =\n",
              "        document.querySelector('#df-b9904672-d982-44f1-8d12-5c6acee9324c button');\n",
              "      quickchartButtonEl.style.display =\n",
              "        google.colab.kernel.accessAllowed ? 'block' : 'none';\n",
              "    })();\n",
              "  </script>\n",
              "</div>\n",
              "\n",
              "  <div id=\"id_07a6f36d-2109-410d-a622-78e0c2097c3b\">\n",
              "    <style>\n",
              "      .colab-df-generate {\n",
              "        background-color: #E8F0FE;\n",
              "        border: none;\n",
              "        border-radius: 50%;\n",
              "        cursor: pointer;\n",
              "        display: none;\n",
              "        fill: #1967D2;\n",
              "        height: 32px;\n",
              "        padding: 0 0 0 0;\n",
              "        width: 32px;\n",
              "      }\n",
              "\n",
              "      .colab-df-generate:hover {\n",
              "        background-color: #E2EBFA;\n",
              "        box-shadow: 0px 1px 2px rgba(60, 64, 67, 0.3), 0px 1px 3px 1px rgba(60, 64, 67, 0.15);\n",
              "        fill: #174EA6;\n",
              "      }\n",
              "\n",
              "      [theme=dark] .colab-df-generate {\n",
              "        background-color: #3B4455;\n",
              "        fill: #D2E3FC;\n",
              "      }\n",
              "\n",
              "      [theme=dark] .colab-df-generate:hover {\n",
              "        background-color: #434B5C;\n",
              "        box-shadow: 0px 1px 3px 1px rgba(0, 0, 0, 0.15);\n",
              "        filter: drop-shadow(0px 1px 2px rgba(0, 0, 0, 0.3));\n",
              "        fill: #FFFFFF;\n",
              "      }\n",
              "    </style>\n",
              "    <button class=\"colab-df-generate\" onclick=\"generateWithVariable('df1')\"\n",
              "            title=\"Generate code using this dataframe.\"\n",
              "            style=\"display:none;\">\n",
              "\n",
              "  <svg xmlns=\"http://www.w3.org/2000/svg\" height=\"24px\"viewBox=\"0 0 24 24\"\n",
              "       width=\"24px\">\n",
              "    <path d=\"M7,19H8.4L18.45,9,17,7.55,7,17.6ZM5,21V16.75L18.45,3.32a2,2,0,0,1,2.83,0l1.4,1.43a1.91,1.91,0,0,1,.58,1.4,1.91,1.91,0,0,1-.58,1.4L9.25,21ZM18.45,9,17,7.55Zm-12,3A5.31,5.31,0,0,0,4.9,8.1,5.31,5.31,0,0,0,1,6.5,5.31,5.31,0,0,0,4.9,4.9,5.31,5.31,0,0,0,6.5,1,5.31,5.31,0,0,0,8.1,4.9,5.31,5.31,0,0,0,12,6.5,5.46,5.46,0,0,0,6.5,12Z\"/>\n",
              "  </svg>\n",
              "    </button>\n",
              "    <script>\n",
              "      (() => {\n",
              "      const buttonEl =\n",
              "        document.querySelector('#id_07a6f36d-2109-410d-a622-78e0c2097c3b button.colab-df-generate');\n",
              "      buttonEl.style.display =\n",
              "        google.colab.kernel.accessAllowed ? 'block' : 'none';\n",
              "\n",
              "      buttonEl.onclick = () => {\n",
              "        google.colab.notebook.generateWithVariable('df1');\n",
              "      }\n",
              "      })();\n",
              "    </script>\n",
              "  </div>\n",
              "\n",
              "    </div>\n",
              "  </div>\n"
            ],
            "application/vnd.google.colaboratory.intrinsic+json": {
              "type": "dataframe",
              "variable_name": "df1",
              "summary": "{\n  \"name\": \"df1\",\n  \"rows\": 16,\n  \"fields\": [\n    {\n      \"column\": \"product\",\n      \"properties\": {\n        \"dtype\": \"string\",\n        \"num_unique_values\": 16,\n        \"samples\": [\n          \"HP Laptop 15s, 12th Gen Intel Core i3, 15.6-inch (39.6 cm), 8GB DDR4, 512GB SSD, Thin & Light, Dual Speakers (Win 11, MSO 2021, Silver, 1.69 kg), fq5007TU / FQ5327TU\",\n          \"Dell 14 Laptop, 12th Gen Intel Core i3-1215U Processor/8GB/512GB SSD/Intel UHD Graphics/14.0\\\"(35.56cm) FHD/Windows 11 + MSO'21/15 Month McAfee/Spill-Resistant Keyboard/Grey/Thin & Light 1.48kg\",\n          \"Lenovo V15 Intel Celeron N4500 15.6\\\" (39.62 cm) FHD (1920x1080) Antiglare 250 Nits Thin and Light Laptop (8GB RAM/256GB SSD/Windows 11 Home/Black/1Y Onsite/1.7 kg), 82QYA00MIN\"\n        ],\n        \"semantic_type\": \"\",\n        \"description\": \"\"\n      }\n    },\n    {\n      \"column\": \"rating\",\n      \"properties\": {\n        \"dtype\": \"category\",\n        \"num_unique_values\": 6,\n        \"samples\": [\n          \"4.1 out of 5 stars \",\n          \"3.8 out of 5 stars \",\n          \"3.7 out of 5 stars \"\n        ],\n        \"semantic_type\": \"\",\n        \"description\": \"\"\n      }\n    },\n    {\n      \"column\": \"no_of_reviews\",\n      \"properties\": {\n        \"dtype\": \"string\",\n        \"num_unique_values\": 15,\n        \"samples\": [\n          \"3,940  \",\n          \"1,292  \",\n          \"1,751  \"\n        ],\n        \"semantic_type\": \"\",\n        \"description\": \"\"\n      }\n    },\n    {\n      \"column\": \"price\",\n      \"properties\": {\n        \"dtype\": \"string\",\n        \"num_unique_values\": 16,\n        \"samples\": [\n          \"37,290\",\n          \"34,990\",\n          \"20,595\"\n        ],\n        \"semantic_type\": \"\",\n        \"description\": \"\"\n      }\n    }\n  ]\n}"
            }
          },
          "metadata": {},
          "execution_count": 204
        }
      ]
    },
    {
      "cell_type": "code",
      "source": [
        "df1['category']='laptop'"
      ],
      "metadata": {
        "id": "NnTeNkTljwjE"
      },
      "execution_count": 205,
      "outputs": []
    },
    {
      "cell_type": "markdown",
      "source": [
        "### Extracting Brand"
      ],
      "metadata": {
        "id": "9e78EuFuMtqQ"
      }
    },
    {
      "cell_type": "code",
      "source": [
        "df1['Brand']=df1['product'].apply(lambda x:x.split()[0])"
      ],
      "metadata": {
        "id": "E2Ki7WaYjzWl"
      },
      "execution_count": 206,
      "outputs": []
    },
    {
      "cell_type": "markdown",
      "source": [
        "### Extracting model"
      ],
      "metadata": {
        "id": "aIyHTCBVMzIQ"
      }
    },
    {
      "cell_type": "code",
      "source": [
        "df1['model']=df1['product'].apply(lambda x:x.split(',')[0])"
      ],
      "metadata": {
        "id": "uwAaPl3Lkdvd"
      },
      "execution_count": 207,
      "outputs": []
    },
    {
      "cell_type": "markdown",
      "source": [
        "### Extracting description"
      ],
      "metadata": {
        "id": "QCE7LhSMM5Iq"
      }
    },
    {
      "cell_type": "code",
      "source": [
        "df1['description']=df1['product'].apply(lambda x:x.split(',')[0])"
      ],
      "metadata": {
        "id": "cQCmOWwCLamx"
      },
      "execution_count": 208,
      "outputs": []
    },
    {
      "cell_type": "markdown",
      "source": [
        "### Extracting ratings"
      ],
      "metadata": {
        "id": "VZck4hbXNAsO"
      }
    },
    {
      "cell_type": "code",
      "source": [
        "df1.isna().sum()"
      ],
      "metadata": {
        "colab": {
          "base_uri": "https://localhost:8080/"
        },
        "id": "rT3kKj0Zr5ls",
        "outputId": "8df5614f-18ac-481f-cf56-574907000b9f"
      },
      "execution_count": 209,
      "outputs": [
        {
          "output_type": "execute_result",
          "data": {
            "text/plain": [
              "product          0\n",
              "rating           0\n",
              "no_of_reviews    0\n",
              "price            0\n",
              "category         0\n",
              "Brand            0\n",
              "model            0\n",
              "description      0\n",
              "dtype: int64"
            ]
          },
          "metadata": {},
          "execution_count": 209
        }
      ]
    },
    {
      "cell_type": "code",
      "source": [
        "df1['rating']=df1['rating'].apply(lambda x:x.split()[0])"
      ],
      "metadata": {
        "id": "PuTbTc0wsND4"
      },
      "execution_count": 210,
      "outputs": []
    },
    {
      "cell_type": "code",
      "source": [
        "df1 = df1[['Brand', 'model', 'description', 'rating', 'no_of_reviews', 'price','category']]"
      ],
      "metadata": {
        "id": "SiIsrlb9sas5"
      },
      "execution_count": 211,
      "outputs": []
    },
    {
      "cell_type": "markdown",
      "source": [
        "# Joining laptop and Mobile data"
      ],
      "metadata": {
        "id": "pd5_uj2TsqvZ"
      }
    },
    {
      "cell_type": "code",
      "source": [
        "\n",
        "\n",
        "df = pd.concat([df, df1], ignore_index=True)\n"
      ],
      "metadata": {
        "id": "p9601lgts3Op"
      },
      "execution_count": 212,
      "outputs": []
    },
    {
      "cell_type": "code",
      "source": [
        "df.shape"
      ],
      "metadata": {
        "colab": {
          "base_uri": "https://localhost:8080/"
        },
        "id": "kwvkThJEswS6",
        "outputId": "b36881f1-472c-4897-cbe9-1439aa179d94"
      },
      "execution_count": 213,
      "outputs": [
        {
          "output_type": "execute_result",
          "data": {
            "text/plain": [
              "(32, 7)"
            ]
          },
          "metadata": {},
          "execution_count": 213
        }
      ]
    },
    {
      "cell_type": "code",
      "source": [
        "df.isna().sum()"
      ],
      "metadata": {
        "colab": {
          "base_uri": "https://localhost:8080/"
        },
        "id": "e5w2DVi2s7pS",
        "outputId": "1ec2dd9f-d093-4c0c-8cf8-2c84a5cb1d4b"
      },
      "execution_count": 214,
      "outputs": [
        {
          "output_type": "execute_result",
          "data": {
            "text/plain": [
              "Brand            0\n",
              "model            0\n",
              "description      0\n",
              "rating           0\n",
              "no_of_reviews    2\n",
              "price            0\n",
              "category         0\n",
              "dtype: int64"
            ]
          },
          "metadata": {},
          "execution_count": 214
        }
      ]
    },
    {
      "cell_type": "code",
      "source": [
        "df=df.fillna(0)"
      ],
      "metadata": {
        "id": "0DMxzBTss_R3"
      },
      "execution_count": 215,
      "outputs": []
    },
    {
      "cell_type": "markdown",
      "source": [
        "# Clothing"
      ],
      "metadata": {
        "id": "kNBFRa61tC5F"
      }
    },
    {
      "cell_type": "code",
      "source": [
        "\n",
        "brands = []\n",
        "descriptions = []\n",
        "ratings = []\n",
        "prices = []\n",
        "no_of_reviews = []\n",
        "\n",
        "webpage = requests.get(\"https://www.amazon.in/s?k=women+clothing&crid=1T14F426LHB3F&sprefix=women+clothing%2Caps%2C228&ref=nb_sb_ss_ts-doa-p_1_14\",headers=headers).text\n",
        "soup = BeautifulSoup(webpage, 'lxml')\n",
        "amazon = soup.find_all('div', class_='a-section a-spacing-small puis-padding-left-micro puis-padding-right-micro')\n",
        "\n",
        "for i in amazon:\n",
        "    brand = i.find('h2', class_='a-size-mini s-line-clamp-1').text\n",
        "    description = i.find('span', class_='a-size-base-plus a-color-base a-text-normal').text\n",
        "    price = i.find('span', class_='a-price-whole').text\n",
        "\n",
        "    # Extracting rating\n",
        "    rate_tag = i.find('span', class_='a-icon-alt')\n",
        "    if rate_tag:\n",
        "        rate = rate_tag.text\n",
        "    else:\n",
        "        rate = np.nan  # or any other value indicating missing rating\n",
        "\n",
        "    # Extracting number of reviews\n",
        "    review_tag = i.find('span', class_='a-size-base s-underline-text')\n",
        "    if review_tag:\n",
        "        no_of_review = review_tag.text\n",
        "    else:\n",
        "        no_of_review = np.nan  # or any other value indicating missing number of reviews\n",
        "\n",
        "    brands.append(brand)\n",
        "    descriptions.append(description)\n",
        "    prices.append(price)\n",
        "    ratings.append(rate)\n",
        "    no_of_reviews.append(no_of_review)\n"
      ],
      "metadata": {
        "id": "ZERqYRSQwi0y"
      },
      "execution_count": 216,
      "outputs": []
    },
    {
      "cell_type": "code",
      "source": [
        "\n",
        "webpage = requests.get(\"https://www.amazon.in/s?k=clothing+men&ref=nb_sb_ss_ts-doa-p_1_12\",headers=headers).text\n",
        "soup = BeautifulSoup(webpage, 'lxml')\n",
        "amazon = soup.find_all('div', class_='a-section a-spacing-small puis-padding-left-micro puis-padding-right-micro')\n",
        "\n",
        "for i in amazon:\n",
        "    brand = i.find('h2', class_='a-size-mini s-line-clamp-1').text\n",
        "    description = i.find('span', class_='a-size-base-plus a-color-base a-text-normal').text\n",
        "    price = i.find('span', class_='a-price-whole').text\n",
        "\n",
        "    # Extracting rating\n",
        "    rate_tag = i.find('span', class_='a-icon-alt')\n",
        "    if rate_tag:\n",
        "        rate = rate_tag.text\n",
        "    else:\n",
        "        rate = np.nan  # or any other value indicating missing rating\n",
        "\n",
        "    # Extracting number of reviews\n",
        "    review_tag = i.find('span', class_='a-size-base s-underline-text')\n",
        "    if review_tag:\n",
        "        no_of_review = review_tag.text\n",
        "    else:\n",
        "        no_of_review = np.nan  # or any other value indicating missing number of reviews\n",
        "\n",
        "    brands.append(brand)\n",
        "    descriptions.append(description)\n",
        "    prices.append(price)\n",
        "    ratings.append(rate)\n",
        "    no_of_reviews.append(no_of_review)"
      ],
      "metadata": {
        "id": "KhzOEX_HydFs"
      },
      "execution_count": 217,
      "outputs": []
    },
    {
      "cell_type": "code",
      "source": [
        "dic={'Brand':brands,'description':descriptions,'rating':ratings,'no_of_reviews':no_of_reviews,'price':prices}"
      ],
      "metadata": {
        "id": "PtCzJ8B2tJf5"
      },
      "execution_count": 218,
      "outputs": []
    },
    {
      "cell_type": "code",
      "source": [
        "len(brands)"
      ],
      "metadata": {
        "colab": {
          "base_uri": "https://localhost:8080/"
        },
        "id": "6b5x_GB8xdju",
        "outputId": "1ee1b936-17a0-4d53-e40d-b869cab2aba4"
      },
      "execution_count": 219,
      "outputs": [
        {
          "output_type": "execute_result",
          "data": {
            "text/plain": [
              "101"
            ]
          },
          "metadata": {},
          "execution_count": 219
        }
      ]
    },
    {
      "cell_type": "code",
      "source": [
        "soup"
      ],
      "metadata": {
        "colab": {
          "base_uri": "https://localhost:8080/"
        },
        "id": "OiNBuX-oPNv4",
        "outputId": "f25d5dbe-6047-4140-dbf2-1743b94460d3"
      },
      "execution_count": 181,
      "outputs": [
        {
          "output_type": "execute_result",
          "data": {
            "text/plain": [
              "<html>\n",
              "<head>\n",
              "<title>503 - Service Unavailable Error</title>\n",
              "</head>\n",
              "<body bgcolor=\"#FFFFFF\" text=\"#000000\">\n",
              "<!--\n",
              "        To discuss automated access to Amazon data please contact api-services-support@amazon.com.\n",
              "        For information about migrating to our APIs refer to our Marketplace APIs at https://developer.amazonservices.in/ref=rm_5_sv, or our Product Advertising API at https://affiliate-program.amazon.in/gp/advertising/api/detail/main.html/ref=rm_5_ac for advertising use cases.\n",
              "-->\n",
              "<center>\n",
              "<a href=\"https://www.amazon.in/ref=cs_503_logo/\">\n",
              "<img alt=\"Amazon.in\" border=\"0\" height=\"45\" src=\"https://images-eu.ssl-images-amazon.com/images/G/31/x-locale/communities/people/logo.gif\" width=\"200\"/></a>\n",
              "<p align=\"center\">\n",
              "<font face=\"Verdana,Arial,Helvetica\">\n",
              "<font color=\"#CC6600\" size=\"+2\"><b>Oops!</b></font><br/>\n",
              "<b>It's rush hour and traffic is piling up on that page. Please try again in a short while.<br/>If you were trying to place an order, it will not have been processed at this time.</b><p>\n",
              "<img alt=\"*\" border=\"0\" height=\"9\" src=\"https://images-eu.ssl-images-amazon.com/images/G/02/x-locale/common/orange-arrow.gif\" width=\"10\"/>\n",
              "<b><a href=\"https://www.amazon.in/ref=cs_503_link/\">Go to the Amazon.in home page to continue shopping</a></b>\n",
              "</p></font>\n",
              "</p></center>\n",
              "</body>\n",
              "</html>"
            ]
          },
          "metadata": {},
          "execution_count": 181
        }
      ]
    },
    {
      "cell_type": "code",
      "source": [
        "brands"
      ],
      "metadata": {
        "colab": {
          "base_uri": "https://localhost:8080/"
        },
        "id": "JMTlLaYWLpP9",
        "outputId": "f3c8972b-a32b-4cdd-f6e2-4f5bb782660d"
      },
      "execution_count": 62,
      "outputs": [
        {
          "output_type": "execute_result",
          "data": {
            "text/plain": [
              "['GRECIILOOKS',\n",
              " 'Alan Jones Clothing',\n",
              " 'Leriya Fashion',\n",
              " 'KOTTY',\n",
              " 'Aahwan',\n",
              " 'Leriya Fashion',\n",
              " 'FIORRA',\n",
              " 'Jockey',\n",
              " 'DHRUVI TRENDZ',\n",
              " 'KOTTY',\n",
              " 'GRECIILOOKS',\n",
              " 'Wedani',\n",
              " 'KOTTY',\n",
              " 'GRECIILOOKS',\n",
              " 'Leriya Fashion',\n",
              " 'KLOSIA',\n",
              " 'Leriya Fashion',\n",
              " 'HSR',\n",
              " 'Fabricorn',\n",
              " 'Leriya Fashion',\n",
              " 'Leriya Fashion',\n",
              " 'HSR',\n",
              " 'GoSriKi',\n",
              " 'ANNI DESIGNER',\n",
              " 'DIGITAL SHOPEE',\n",
              " 'ANNI DESIGNER',\n",
              " 'ADDYVERO',\n",
              " 'MEERA FAB',\n",
              " 'ANNI DESIGNER',\n",
              " 'Sugathari',\n",
              " 'ANNI DESIGNER',\n",
              " 'PURSUE FASHION',\n",
              " 'Aahwan',\n",
              " 'Sugathari',\n",
              " 'OM SAI LATEST CREATION',\n",
              " 'HSR',\n",
              " 'ANNI DESIGNER',\n",
              " 'Jockey',\n",
              " 'OOMPH!',\n",
              " 'CHKOKKO',\n",
              " 'POPWINGS',\n",
              " 'ANNI DESIGNER',\n",
              " 'rytras',\n",
              " 'Alan Jones Clothing',\n",
              " 'GRECIILOOKS',\n",
              " 'KOTTY',\n",
              " 'Sugathari',\n",
              " 'Sugathari']"
            ]
          },
          "metadata": {},
          "execution_count": 62
        }
      ]
    },
    {
      "cell_type": "markdown",
      "source": [
        "## Creating Dataframe"
      ],
      "metadata": {
        "id": "dZ2p-O2rNN7L"
      }
    },
    {
      "cell_type": "code",
      "source": [
        "df1=pd.DataFrame(dic)"
      ],
      "metadata": {
        "id": "zZG6JpcbxKq3"
      },
      "execution_count": 220,
      "outputs": []
    },
    {
      "cell_type": "code",
      "source": [
        "df1['category']='clothing'"
      ],
      "metadata": {
        "id": "bcxvlyOAx1GQ"
      },
      "execution_count": 221,
      "outputs": []
    },
    {
      "cell_type": "code",
      "source": [
        "df1['model']='not applicable'"
      ],
      "metadata": {
        "id": "8-tD6Vdcx8We"
      },
      "execution_count": 222,
      "outputs": []
    },
    {
      "cell_type": "code",
      "source": [
        "df1.isnull().sum()"
      ],
      "metadata": {
        "colab": {
          "base_uri": "https://localhost:8080/"
        },
        "id": "Usw9bc16KSRm",
        "outputId": "21258688-47b7-4650-863f-0a1a65d6bccb"
      },
      "execution_count": 223,
      "outputs": [
        {
          "output_type": "execute_result",
          "data": {
            "text/plain": [
              "Brand            0\n",
              "description      0\n",
              "rating           1\n",
              "no_of_reviews    1\n",
              "price            0\n",
              "category         0\n",
              "model            0\n",
              "dtype: int64"
            ]
          },
          "metadata": {},
          "execution_count": 223
        }
      ]
    },
    {
      "cell_type": "code",
      "source": [
        "df1=df1.fillna('0')"
      ],
      "metadata": {
        "id": "tS2IMEqpKc1t"
      },
      "execution_count": 224,
      "outputs": []
    },
    {
      "cell_type": "markdown",
      "source": [
        "### Extracting rating"
      ],
      "metadata": {
        "id": "CmGI3i_GNLSO"
      }
    },
    {
      "cell_type": "code",
      "source": [
        "df1['rating']=df1['rating'].apply(lambda x:x.split()[0])"
      ],
      "metadata": {
        "id": "MUKf25wWxPUq"
      },
      "execution_count": 225,
      "outputs": []
    },
    {
      "cell_type": "code",
      "source": [
        "df1 = df1[['Brand', 'model', 'description', 'rating', 'no_of_reviews', 'price','category']]"
      ],
      "metadata": {
        "id": "FL71WRHgwztn"
      },
      "execution_count": 226,
      "outputs": []
    },
    {
      "cell_type": "markdown",
      "source": [
        "# Concating all the tables"
      ],
      "metadata": {
        "id": "nDyTpYgcNbTu"
      }
    },
    {
      "cell_type": "code",
      "source": [
        "\n",
        "\n",
        "df = pd.concat([df, df1], ignore_index=True)\n"
      ],
      "metadata": {
        "id": "s-sg8mKxyQo4"
      },
      "execution_count": 227,
      "outputs": []
    },
    {
      "cell_type": "code",
      "source": [
        "df.shape"
      ],
      "metadata": {
        "id": "2lHfe5aPyVRB",
        "colab": {
          "base_uri": "https://localhost:8080/"
        },
        "outputId": "f47a90c7-9a8d-4d56-abf0-0d67f24b3352"
      },
      "execution_count": 228,
      "outputs": [
        {
          "output_type": "execute_result",
          "data": {
            "text/plain": [
              "(133, 7)"
            ]
          },
          "metadata": {},
          "execution_count": 228
        }
      ]
    },
    {
      "cell_type": "code",
      "source": [
        "df"
      ],
      "metadata": {
        "colab": {
          "base_uri": "https://localhost:8080/",
          "height": 423
        },
        "id": "_3N7nvDEQYxA",
        "outputId": "60b1a253-0ea1-4bfa-e3d5-3343fff42022"
      },
      "execution_count": 231,
      "outputs": [
        {
          "output_type": "execute_result",
          "data": {
            "text/plain": [
              "                   Brand              model  \\\n",
              "0                Oneplus  Oneplus Nord CE4    \n",
              "1                  Redmi         Redmi 13C    \n",
              "2                 realme  realme narzo N53    \n",
              "3                 realme  realme narzo N53    \n",
              "4                Oneplus  Oneplus Nord CE4    \n",
              "..                   ...                ...   \n",
              "128  Alan Jones Clothing     not applicable   \n",
              "129                ATICX     not applicable   \n",
              "130              LEOTUDE     not applicable   \n",
              "131          GRECIILOOKS     not applicable   \n",
              "132  Alan Jones Clothing     not applicable   \n",
              "\n",
              "                                           description rating no_of_reviews  \\\n",
              "0              Celadon Marble, 8GB RAM, 128GB Storage)      0             0   \n",
              "1    Stardust Black, 6GB RAM, 128GB Storage) | Powe...    4.1       2,939     \n",
              "2    Feather Gold, 4GB+64GB) 33W Segment Fastest Ch...    4.0      15,472     \n",
              "3    Feather Black, 4GB+64GB) 33W Segment Fastest C...    4.0      15,472     \n",
              "4                 Dark Chrome, 8GB RAM, 256GB Storage)      0             0   \n",
              "..                                                 ...    ...           ...   \n",
              "128       Men's Cotton Colorblocked Sleeveless T-Shirt    4.3            55   \n",
              "129  Men's Slim Fit Polyester Sleeveless T Shirt - ...    4.0           777   \n",
              "130  Men Half Sleeve Oversized Tshirt, Round Neck L...    3.6           173   \n",
              "131                       Men Regular Fit Casual Shirt    3.8           217   \n",
              "132                   Men's Cotton Hooded Neck Hoodies    4.0         1,154   \n",
              "\n",
              "      price  category  \n",
              "0    24,999    mobile  \n",
              "1     8,699    mobile  \n",
              "2     7,499    mobile  \n",
              "3     8,999    mobile  \n",
              "4    26,999    mobile  \n",
              "..      ...       ...  \n",
              "128     329  clothing  \n",
              "129     399  clothing  \n",
              "130     699  clothing  \n",
              "131     479  clothing  \n",
              "132     649  clothing  \n",
              "\n",
              "[133 rows x 7 columns]"
            ],
            "text/html": [
              "\n",
              "  <div id=\"df-3e05dde6-15cf-412f-bace-097d3c45bd11\" class=\"colab-df-container\">\n",
              "    <div>\n",
              "<style scoped>\n",
              "    .dataframe tbody tr th:only-of-type {\n",
              "        vertical-align: middle;\n",
              "    }\n",
              "\n",
              "    .dataframe tbody tr th {\n",
              "        vertical-align: top;\n",
              "    }\n",
              "\n",
              "    .dataframe thead th {\n",
              "        text-align: right;\n",
              "    }\n",
              "</style>\n",
              "<table border=\"1\" class=\"dataframe\">\n",
              "  <thead>\n",
              "    <tr style=\"text-align: right;\">\n",
              "      <th></th>\n",
              "      <th>Brand</th>\n",
              "      <th>model</th>\n",
              "      <th>description</th>\n",
              "      <th>rating</th>\n",
              "      <th>no_of_reviews</th>\n",
              "      <th>price</th>\n",
              "      <th>category</th>\n",
              "    </tr>\n",
              "  </thead>\n",
              "  <tbody>\n",
              "    <tr>\n",
              "      <th>0</th>\n",
              "      <td>Oneplus</td>\n",
              "      <td>Oneplus Nord CE4</td>\n",
              "      <td>Celadon Marble, 8GB RAM, 128GB Storage)</td>\n",
              "      <td>0</td>\n",
              "      <td>0</td>\n",
              "      <td>24,999</td>\n",
              "      <td>mobile</td>\n",
              "    </tr>\n",
              "    <tr>\n",
              "      <th>1</th>\n",
              "      <td>Redmi</td>\n",
              "      <td>Redmi 13C</td>\n",
              "      <td>Stardust Black, 6GB RAM, 128GB Storage) | Powe...</td>\n",
              "      <td>4.1</td>\n",
              "      <td>2,939</td>\n",
              "      <td>8,699</td>\n",
              "      <td>mobile</td>\n",
              "    </tr>\n",
              "    <tr>\n",
              "      <th>2</th>\n",
              "      <td>realme</td>\n",
              "      <td>realme narzo N53</td>\n",
              "      <td>Feather Gold, 4GB+64GB) 33W Segment Fastest Ch...</td>\n",
              "      <td>4.0</td>\n",
              "      <td>15,472</td>\n",
              "      <td>7,499</td>\n",
              "      <td>mobile</td>\n",
              "    </tr>\n",
              "    <tr>\n",
              "      <th>3</th>\n",
              "      <td>realme</td>\n",
              "      <td>realme narzo N53</td>\n",
              "      <td>Feather Black, 4GB+64GB) 33W Segment Fastest C...</td>\n",
              "      <td>4.0</td>\n",
              "      <td>15,472</td>\n",
              "      <td>8,999</td>\n",
              "      <td>mobile</td>\n",
              "    </tr>\n",
              "    <tr>\n",
              "      <th>4</th>\n",
              "      <td>Oneplus</td>\n",
              "      <td>Oneplus Nord CE4</td>\n",
              "      <td>Dark Chrome, 8GB RAM, 256GB Storage)</td>\n",
              "      <td>0</td>\n",
              "      <td>0</td>\n",
              "      <td>26,999</td>\n",
              "      <td>mobile</td>\n",
              "    </tr>\n",
              "    <tr>\n",
              "      <th>...</th>\n",
              "      <td>...</td>\n",
              "      <td>...</td>\n",
              "      <td>...</td>\n",
              "      <td>...</td>\n",
              "      <td>...</td>\n",
              "      <td>...</td>\n",
              "      <td>...</td>\n",
              "    </tr>\n",
              "    <tr>\n",
              "      <th>128</th>\n",
              "      <td>Alan Jones Clothing</td>\n",
              "      <td>not applicable</td>\n",
              "      <td>Men's Cotton Colorblocked Sleeveless T-Shirt</td>\n",
              "      <td>4.3</td>\n",
              "      <td>55</td>\n",
              "      <td>329</td>\n",
              "      <td>clothing</td>\n",
              "    </tr>\n",
              "    <tr>\n",
              "      <th>129</th>\n",
              "      <td>ATICX</td>\n",
              "      <td>not applicable</td>\n",
              "      <td>Men's Slim Fit Polyester Sleeveless T Shirt - ...</td>\n",
              "      <td>4.0</td>\n",
              "      <td>777</td>\n",
              "      <td>399</td>\n",
              "      <td>clothing</td>\n",
              "    </tr>\n",
              "    <tr>\n",
              "      <th>130</th>\n",
              "      <td>LEOTUDE</td>\n",
              "      <td>not applicable</td>\n",
              "      <td>Men Half Sleeve Oversized Tshirt, Round Neck L...</td>\n",
              "      <td>3.6</td>\n",
              "      <td>173</td>\n",
              "      <td>699</td>\n",
              "      <td>clothing</td>\n",
              "    </tr>\n",
              "    <tr>\n",
              "      <th>131</th>\n",
              "      <td>GRECIILOOKS</td>\n",
              "      <td>not applicable</td>\n",
              "      <td>Men Regular Fit Casual Shirt</td>\n",
              "      <td>3.8</td>\n",
              "      <td>217</td>\n",
              "      <td>479</td>\n",
              "      <td>clothing</td>\n",
              "    </tr>\n",
              "    <tr>\n",
              "      <th>132</th>\n",
              "      <td>Alan Jones Clothing</td>\n",
              "      <td>not applicable</td>\n",
              "      <td>Men's Cotton Hooded Neck Hoodies</td>\n",
              "      <td>4.0</td>\n",
              "      <td>1,154</td>\n",
              "      <td>649</td>\n",
              "      <td>clothing</td>\n",
              "    </tr>\n",
              "  </tbody>\n",
              "</table>\n",
              "<p>133 rows × 7 columns</p>\n",
              "</div>\n",
              "    <div class=\"colab-df-buttons\">\n",
              "\n",
              "  <div class=\"colab-df-container\">\n",
              "    <button class=\"colab-df-convert\" onclick=\"convertToInteractive('df-3e05dde6-15cf-412f-bace-097d3c45bd11')\"\n",
              "            title=\"Convert this dataframe to an interactive table.\"\n",
              "            style=\"display:none;\">\n",
              "\n",
              "  <svg xmlns=\"http://www.w3.org/2000/svg\" height=\"24px\" viewBox=\"0 -960 960 960\">\n",
              "    <path d=\"M120-120v-720h720v720H120Zm60-500h600v-160H180v160Zm220 220h160v-160H400v160Zm0 220h160v-160H400v160ZM180-400h160v-160H180v160Zm440 0h160v-160H620v160ZM180-180h160v-160H180v160Zm440 0h160v-160H620v160Z\"/>\n",
              "  </svg>\n",
              "    </button>\n",
              "\n",
              "  <style>\n",
              "    .colab-df-container {\n",
              "      display:flex;\n",
              "      gap: 12px;\n",
              "    }\n",
              "\n",
              "    .colab-df-convert {\n",
              "      background-color: #E8F0FE;\n",
              "      border: none;\n",
              "      border-radius: 50%;\n",
              "      cursor: pointer;\n",
              "      display: none;\n",
              "      fill: #1967D2;\n",
              "      height: 32px;\n",
              "      padding: 0 0 0 0;\n",
              "      width: 32px;\n",
              "    }\n",
              "\n",
              "    .colab-df-convert:hover {\n",
              "      background-color: #E2EBFA;\n",
              "      box-shadow: 0px 1px 2px rgba(60, 64, 67, 0.3), 0px 1px 3px 1px rgba(60, 64, 67, 0.15);\n",
              "      fill: #174EA6;\n",
              "    }\n",
              "\n",
              "    .colab-df-buttons div {\n",
              "      margin-bottom: 4px;\n",
              "    }\n",
              "\n",
              "    [theme=dark] .colab-df-convert {\n",
              "      background-color: #3B4455;\n",
              "      fill: #D2E3FC;\n",
              "    }\n",
              "\n",
              "    [theme=dark] .colab-df-convert:hover {\n",
              "      background-color: #434B5C;\n",
              "      box-shadow: 0px 1px 3px 1px rgba(0, 0, 0, 0.15);\n",
              "      filter: drop-shadow(0px 1px 2px rgba(0, 0, 0, 0.3));\n",
              "      fill: #FFFFFF;\n",
              "    }\n",
              "  </style>\n",
              "\n",
              "    <script>\n",
              "      const buttonEl =\n",
              "        document.querySelector('#df-3e05dde6-15cf-412f-bace-097d3c45bd11 button.colab-df-convert');\n",
              "      buttonEl.style.display =\n",
              "        google.colab.kernel.accessAllowed ? 'block' : 'none';\n",
              "\n",
              "      async function convertToInteractive(key) {\n",
              "        const element = document.querySelector('#df-3e05dde6-15cf-412f-bace-097d3c45bd11');\n",
              "        const dataTable =\n",
              "          await google.colab.kernel.invokeFunction('convertToInteractive',\n",
              "                                                    [key], {});\n",
              "        if (!dataTable) return;\n",
              "\n",
              "        const docLinkHtml = 'Like what you see? Visit the ' +\n",
              "          '<a target=\"_blank\" href=https://colab.research.google.com/notebooks/data_table.ipynb>data table notebook</a>'\n",
              "          + ' to learn more about interactive tables.';\n",
              "        element.innerHTML = '';\n",
              "        dataTable['output_type'] = 'display_data';\n",
              "        await google.colab.output.renderOutput(dataTable, element);\n",
              "        const docLink = document.createElement('div');\n",
              "        docLink.innerHTML = docLinkHtml;\n",
              "        element.appendChild(docLink);\n",
              "      }\n",
              "    </script>\n",
              "  </div>\n",
              "\n",
              "\n",
              "<div id=\"df-55778d36-ff44-4a5b-aa09-9bb473fdaf1c\">\n",
              "  <button class=\"colab-df-quickchart\" onclick=\"quickchart('df-55778d36-ff44-4a5b-aa09-9bb473fdaf1c')\"\n",
              "            title=\"Suggest charts\"\n",
              "            style=\"display:none;\">\n",
              "\n",
              "<svg xmlns=\"http://www.w3.org/2000/svg\" height=\"24px\"viewBox=\"0 0 24 24\"\n",
              "     width=\"24px\">\n",
              "    <g>\n",
              "        <path d=\"M19 3H5c-1.1 0-2 .9-2 2v14c0 1.1.9 2 2 2h14c1.1 0 2-.9 2-2V5c0-1.1-.9-2-2-2zM9 17H7v-7h2v7zm4 0h-2V7h2v10zm4 0h-2v-4h2v4z\"/>\n",
              "    </g>\n",
              "</svg>\n",
              "  </button>\n",
              "\n",
              "<style>\n",
              "  .colab-df-quickchart {\n",
              "      --bg-color: #E8F0FE;\n",
              "      --fill-color: #1967D2;\n",
              "      --hover-bg-color: #E2EBFA;\n",
              "      --hover-fill-color: #174EA6;\n",
              "      --disabled-fill-color: #AAA;\n",
              "      --disabled-bg-color: #DDD;\n",
              "  }\n",
              "\n",
              "  [theme=dark] .colab-df-quickchart {\n",
              "      --bg-color: #3B4455;\n",
              "      --fill-color: #D2E3FC;\n",
              "      --hover-bg-color: #434B5C;\n",
              "      --hover-fill-color: #FFFFFF;\n",
              "      --disabled-bg-color: #3B4455;\n",
              "      --disabled-fill-color: #666;\n",
              "  }\n",
              "\n",
              "  .colab-df-quickchart {\n",
              "    background-color: var(--bg-color);\n",
              "    border: none;\n",
              "    border-radius: 50%;\n",
              "    cursor: pointer;\n",
              "    display: none;\n",
              "    fill: var(--fill-color);\n",
              "    height: 32px;\n",
              "    padding: 0;\n",
              "    width: 32px;\n",
              "  }\n",
              "\n",
              "  .colab-df-quickchart:hover {\n",
              "    background-color: var(--hover-bg-color);\n",
              "    box-shadow: 0 1px 2px rgba(60, 64, 67, 0.3), 0 1px 3px 1px rgba(60, 64, 67, 0.15);\n",
              "    fill: var(--button-hover-fill-color);\n",
              "  }\n",
              "\n",
              "  .colab-df-quickchart-complete:disabled,\n",
              "  .colab-df-quickchart-complete:disabled:hover {\n",
              "    background-color: var(--disabled-bg-color);\n",
              "    fill: var(--disabled-fill-color);\n",
              "    box-shadow: none;\n",
              "  }\n",
              "\n",
              "  .colab-df-spinner {\n",
              "    border: 2px solid var(--fill-color);\n",
              "    border-color: transparent;\n",
              "    border-bottom-color: var(--fill-color);\n",
              "    animation:\n",
              "      spin 1s steps(1) infinite;\n",
              "  }\n",
              "\n",
              "  @keyframes spin {\n",
              "    0% {\n",
              "      border-color: transparent;\n",
              "      border-bottom-color: var(--fill-color);\n",
              "      border-left-color: var(--fill-color);\n",
              "    }\n",
              "    20% {\n",
              "      border-color: transparent;\n",
              "      border-left-color: var(--fill-color);\n",
              "      border-top-color: var(--fill-color);\n",
              "    }\n",
              "    30% {\n",
              "      border-color: transparent;\n",
              "      border-left-color: var(--fill-color);\n",
              "      border-top-color: var(--fill-color);\n",
              "      border-right-color: var(--fill-color);\n",
              "    }\n",
              "    40% {\n",
              "      border-color: transparent;\n",
              "      border-right-color: var(--fill-color);\n",
              "      border-top-color: var(--fill-color);\n",
              "    }\n",
              "    60% {\n",
              "      border-color: transparent;\n",
              "      border-right-color: var(--fill-color);\n",
              "    }\n",
              "    80% {\n",
              "      border-color: transparent;\n",
              "      border-right-color: var(--fill-color);\n",
              "      border-bottom-color: var(--fill-color);\n",
              "    }\n",
              "    90% {\n",
              "      border-color: transparent;\n",
              "      border-bottom-color: var(--fill-color);\n",
              "    }\n",
              "  }\n",
              "</style>\n",
              "\n",
              "  <script>\n",
              "    async function quickchart(key) {\n",
              "      const quickchartButtonEl =\n",
              "        document.querySelector('#' + key + ' button');\n",
              "      quickchartButtonEl.disabled = true;  // To prevent multiple clicks.\n",
              "      quickchartButtonEl.classList.add('colab-df-spinner');\n",
              "      try {\n",
              "        const charts = await google.colab.kernel.invokeFunction(\n",
              "            'suggestCharts', [key], {});\n",
              "      } catch (error) {\n",
              "        console.error('Error during call to suggestCharts:', error);\n",
              "      }\n",
              "      quickchartButtonEl.classList.remove('colab-df-spinner');\n",
              "      quickchartButtonEl.classList.add('colab-df-quickchart-complete');\n",
              "    }\n",
              "    (() => {\n",
              "      let quickchartButtonEl =\n",
              "        document.querySelector('#df-55778d36-ff44-4a5b-aa09-9bb473fdaf1c button');\n",
              "      quickchartButtonEl.style.display =\n",
              "        google.colab.kernel.accessAllowed ? 'block' : 'none';\n",
              "    })();\n",
              "  </script>\n",
              "</div>\n",
              "\n",
              "  <div id=\"id_3d7d58cb-0c19-4ee7-a101-3b7bae158625\">\n",
              "    <style>\n",
              "      .colab-df-generate {\n",
              "        background-color: #E8F0FE;\n",
              "        border: none;\n",
              "        border-radius: 50%;\n",
              "        cursor: pointer;\n",
              "        display: none;\n",
              "        fill: #1967D2;\n",
              "        height: 32px;\n",
              "        padding: 0 0 0 0;\n",
              "        width: 32px;\n",
              "      }\n",
              "\n",
              "      .colab-df-generate:hover {\n",
              "        background-color: #E2EBFA;\n",
              "        box-shadow: 0px 1px 2px rgba(60, 64, 67, 0.3), 0px 1px 3px 1px rgba(60, 64, 67, 0.15);\n",
              "        fill: #174EA6;\n",
              "      }\n",
              "\n",
              "      [theme=dark] .colab-df-generate {\n",
              "        background-color: #3B4455;\n",
              "        fill: #D2E3FC;\n",
              "      }\n",
              "\n",
              "      [theme=dark] .colab-df-generate:hover {\n",
              "        background-color: #434B5C;\n",
              "        box-shadow: 0px 1px 3px 1px rgba(0, 0, 0, 0.15);\n",
              "        filter: drop-shadow(0px 1px 2px rgba(0, 0, 0, 0.3));\n",
              "        fill: #FFFFFF;\n",
              "      }\n",
              "    </style>\n",
              "    <button class=\"colab-df-generate\" onclick=\"generateWithVariable('df')\"\n",
              "            title=\"Generate code using this dataframe.\"\n",
              "            style=\"display:none;\">\n",
              "\n",
              "  <svg xmlns=\"http://www.w3.org/2000/svg\" height=\"24px\"viewBox=\"0 0 24 24\"\n",
              "       width=\"24px\">\n",
              "    <path d=\"M7,19H8.4L18.45,9,17,7.55,7,17.6ZM5,21V16.75L18.45,3.32a2,2,0,0,1,2.83,0l1.4,1.43a1.91,1.91,0,0,1,.58,1.4,1.91,1.91,0,0,1-.58,1.4L9.25,21ZM18.45,9,17,7.55Zm-12,3A5.31,5.31,0,0,0,4.9,8.1,5.31,5.31,0,0,0,1,6.5,5.31,5.31,0,0,0,4.9,4.9,5.31,5.31,0,0,0,6.5,1,5.31,5.31,0,0,0,8.1,4.9,5.31,5.31,0,0,0,12,6.5,5.46,5.46,0,0,0,6.5,12Z\"/>\n",
              "  </svg>\n",
              "    </button>\n",
              "    <script>\n",
              "      (() => {\n",
              "      const buttonEl =\n",
              "        document.querySelector('#id_3d7d58cb-0c19-4ee7-a101-3b7bae158625 button.colab-df-generate');\n",
              "      buttonEl.style.display =\n",
              "        google.colab.kernel.accessAllowed ? 'block' : 'none';\n",
              "\n",
              "      buttonEl.onclick = () => {\n",
              "        google.colab.notebook.generateWithVariable('df');\n",
              "      }\n",
              "      })();\n",
              "    </script>\n",
              "  </div>\n",
              "\n",
              "    </div>\n",
              "  </div>\n"
            ],
            "application/vnd.google.colaboratory.intrinsic+json": {
              "type": "dataframe",
              "variable_name": "df",
              "summary": "{\n  \"name\": \"df\",\n  \"rows\": 133,\n  \"fields\": [\n    {\n      \"column\": \"Brand\",\n      \"properties\": {\n        \"dtype\": \"category\",\n        \"num_unique_values\": 66,\n        \"samples\": [\n          \"Unbeatable\",\n          \"Lux Cott's Wool\",\n          \"Oneplus\"\n        ],\n        \"semantic_type\": \"\",\n        \"description\": \"\"\n      }\n    },\n    {\n      \"column\": \"model\",\n      \"properties\": {\n        \"dtype\": \"category\",\n        \"num_unique_values\": 25,\n        \"samples\": [\n          \"Vivo T2x 5G \",\n          \"TECNO MEGABOOK T1\",\n          \"Oneplus Nord CE4 \"\n        ],\n        \"semantic_type\": \"\",\n        \"description\": \"\"\n      }\n    },\n    {\n      \"column\": \"description\",\n      \"properties\": {\n        \"dtype\": \"string\",\n        \"num_unique_values\": 127,\n        \"samples\": [\n          \"ASUS Vivobook 14\",\n          \"Men's Cotton Thermal Set\",\n          \"Casual Shirt for Men|| Shirt for Men|| Men Stylish Shirt (D-Crush-16-23)\"\n        ],\n        \"semantic_type\": \"\",\n        \"description\": \"\"\n      }\n    },\n    {\n      \"column\": \"rating\",\n      \"properties\": {\n        \"dtype\": \"category\",\n        \"num_unique_values\": 20,\n        \"samples\": [\n          \"0\",\n          \"3.5\",\n          \"3.4\"\n        ],\n        \"semantic_type\": \"\",\n        \"description\": \"\"\n      }\n    },\n    {\n      \"column\": \"no_of_reviews\",\n      \"properties\": {\n        \"dtype\": \"string\",\n        \"num_unique_values\": 121,\n        \"samples\": [\n          \"124\",\n          \"433\",\n          \"15,942  \"\n        ],\n        \"semantic_type\": \"\",\n        \"description\": \"\"\n      }\n    },\n    {\n      \"column\": \"price\",\n      \"properties\": {\n        \"dtype\": \"string\",\n        \"num_unique_values\": 77,\n        \"samples\": [\n          \"26,999\",\n          \"799\",\n          \"30,930\"\n        ],\n        \"semantic_type\": \"\",\n        \"description\": \"\"\n      }\n    },\n    {\n      \"column\": \"category\",\n      \"properties\": {\n        \"dtype\": \"category\",\n        \"num_unique_values\": 3,\n        \"samples\": [\n          \"mobile\",\n          \"laptop\",\n          \"clothing\"\n        ],\n        \"semantic_type\": \"\",\n        \"description\": \"\"\n      }\n    }\n  ]\n}"
            }
          },
          "metadata": {},
          "execution_count": 231
        }
      ]
    },
    {
      "cell_type": "markdown",
      "source": [
        "# Saving the file"
      ],
      "metadata": {
        "id": "1RkTvsrjQCPo"
      }
    },
    {
      "cell_type": "code",
      "source": [
        "\n",
        "df.to_csv('Amazon.csv')\n"
      ],
      "metadata": {
        "id": "BtsZXQoTQDMu"
      },
      "execution_count": 233,
      "outputs": []
    }
  ]
}